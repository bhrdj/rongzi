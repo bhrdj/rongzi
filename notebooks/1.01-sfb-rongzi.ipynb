{
 "cells": [
  {
   "cell_type": "markdown",
   "id": "4645831b-b4e5-4d11-8593-a1fe83272ba8",
   "metadata": {},
   "source": [
    "# Characters Degrees of Separation "
   ]
  },
  {
   "cell_type": "markdown",
   "id": "021bfd13-55d1-4475-a222-49bc33093013",
   "metadata": {
    "heading_collapsed": true,
    "jp-MarkdownHeadingCollapsed": true,
    "tags": []
   },
   "source": [
    "## Setup"
   ]
  },
  {
   "cell_type": "code",
   "execution_count": 3,
   "id": "a5f78089-3aa4-4790-8b50-a4cd4dbf06e8",
   "metadata": {
    "hidden": true
   },
   "outputs": [],
   "source": [
    "import pandas as pd, matplotlib.pyplot as plt, numpy as np\n",
    "import os, inspect, graphviz, pickle"
   ]
  },
  {
   "cell_type": "code",
   "execution_count": 4,
   "id": "c889be81",
   "metadata": {
    "hidden": true
   },
   "outputs": [
    {
     "data": {
      "text/plain": [
       "['.ipynb_checkpoints',\n",
       " 'setup_virtual_environment_for_streamlit_app.sh',\n",
       " 'log.txt',\n",
       " '.gitignore',\n",
       " '__pycache__',\n",
       " 'notebooks',\n",
       " 'app.py',\n",
       " 'README.md',\n",
       " 'debug_streamlit.ipynb',\n",
       " '.git',\n",
       " 'requirements.txt',\n",
       " 'venv',\n",
       " 'assets',\n",
       " 'rongzi.py',\n",
       " 'data']"
      ]
     },
     "execution_count": 4,
     "metadata": {},
     "output_type": "execute_result"
    }
   ],
   "source": [
    "os.listdir('../')"
   ]
  },
  {
   "cell_type": "code",
   "execution_count": 5,
   "id": "c502e605",
   "metadata": {
    "hidden": true
   },
   "outputs": [],
   "source": [
    "ccd = pd.read_csv('../data/WikiCCD_2021-07-18.csv')\n",
    "ccd = ccd.loc[ccd.index.difference([3618, 21004, 21100])]  # remove some duplicates\n",
    "ccd = ccd.set_index('Component')"
   ]
  },
  {
   "cell_type": "markdown",
   "id": "9fbf9f43-d8a2-481e-9258-9a8a3c71f1a6",
   "metadata": {},
   "source": [
    "#### make a dict for strings found as \"parents\" that have a record as components (and the ones that don't)"
   ]
  },
  {
   "cell_type": "code",
   "execution_count": 23,
   "id": "9b1af266-20d6-4606-aa00-bd5bdd5a05b6",
   "metadata": {},
   "outputs": [
    {
     "data": {
      "text/plain": [
       "Index(['Strokes', 'CompositionType', 'LeftComponent', 'LeftStrokes',\n",
       "       'RightComponent', 'RightStrokes', 'Signature', 'Notes', 'Section'],\n",
       "      dtype='object')"
      ]
     },
     "execution_count": 23,
     "metadata": {},
     "output_type": "execute_result"
    }
   ],
   "source": [
    "ccd.columns"
   ]
  },
  {
   "cell_type": "code",
   "execution_count": 70,
   "id": "75ee6c9c-f55e-453e-a00f-a923db51df62",
   "metadata": {},
   "outputs": [],
   "source": [
    "all_parents = set(ccd.LeftComponent.values).union(set(ccd.RightComponent.values))\n",
    "all_components = set(ccd.index.values)\n",
    "no_record_set = all_parents.difference(all_components)\n",
    "no_record_ser = ccd.RightComponent.map(lambda x: x in no_record_set).astype(int) + ccd.LeftComponent.map(lambda x: x in no_record_set).astype(int)\n",
    "no_record_df = ccd.copy().loc[no_record_ser > 0]\n",
    "no_record_df['no_record'] = no_record_ser"
   ]
  },
  {
   "cell_type": "code",
   "execution_count": 77,
   "id": "cb9f2be8-19a9-41fb-84ae-d369310b0a98",
   "metadata": {},
   "outputs": [
    {
     "name": "stdout",
     "output_type": "stream",
     "text": [
      "{nan, '臼同', '⺌', '尤旨', '㇇', '㩅', '王缶', '山分', '𠨐', '䍛', '丷十', '𫠣', '日虫虫', '𤾡', '田疋', '丁丷', '宀心', '冘皿', '爫无', '执云', '田凵', '芮*', '土示', '口了又', '𨥫', '干干', '彐+人', '夕寸', '豆寸', '井?', '𡴎', '目大良', '袁*', '聂?', '正見', '山並', '艹土', '卄両', '㐬皿', '罒?寸', '𥘈', '疌 ', '乛耳', '口川', '广艹', '禾尤旨', '女 ', '⺊冖釆', '一亻', '儿*', '廿北口', '⺈内', '⺳', '工几', '人镸', '廌去', '穴土', '备录', '关黑', '𥏫*', '自亼冊', '穴方', '冫冫', '从止', '丿?夂', '貝貝', '*', '厶大', '士冖禾', '八田', '苜*', '刀牛', '水水', '龶', '皀殳', '丆且分', '免冫', '北白', '仌十仌', '申乁', '艹巾', '小一', '匚一', '𥃲', '艹品', '𣄼', '爿喬', '爫击?', '人*', '罒方', '目乚', '舟巜', '䩗', '口冊', '日夨', '臼?由', '戊貝', '口口田一', '2旧', '口勹 又', '彳枼', '巛歹刂 ', '𠠵', '川凶', '占又', '𢌳', '菐*', '林月', '爿丙', '免生', '日匂', '𠁳', '䖒', '田一', '彳支', '广?', '戊贝', '<夓', '𥝢', '厂二', '八十', '辰?', '彐彐彐', '幺白幺', '㘸', '𣳾', '幺幺大', '𧘇', '右*比', '敄目', '一由', ' 丯口', '丑刂', '鳥*', '丷干', '𧆨', '一巛', '幺月', '兔生', '戌小', '目兆', '氵刅', '夂?夂', '月又', '月寸', '口十', '丬夕', '爿臬', '禾魚', '⺈', '㇏', '𡉀', '𠱠', '丷人', '负*', '厃儿', '丶囗釆', '一亚', '爫糸', '7儿', '穴瓜瓜瓜', '乚米', '丶凡', '舌自', '尸示', '⺆', '𤋱', '日共', '人*疋', '小女', '夂贡', '戊少', '儿*米', '爫缶', '𣪘', '龱', '刃止', '豕瓜', '𢛳', '3勿', '⺽頁', '罒又', '人音', '一火又', '釆卜?禸', '叕酉', '匚夹', '丶干', '𠫡', '乛口', '𣦼', '冫玄冫', '爿言', '匕矢匕', '丶丹', '巸*', '臣忠', '一肀', '爿?', '丷疋', '齊*', '育攵', '大土', '㡀', '𡚇', '臼工', '𦥛', '隹欠', '萹?', '亻夂丶', '夹土', '力巴', '𠾂', '幺?儿', '𠃓', '山豕', '罒戈巾', '臼?矛', '丅耳', '人木', '艹两', ' 夲*', '爫旧', '十皿衣', '𠕁', '彳婁', '井*', '?厸二', '宀儿', '乇*', '宀?少', '人彡', '皀阝', '乚丙', '关貝', '上儿', '业口', '十罒一心', '亞*', '儿夂', '十日干', '臼?禾', '釆?犬', '𤴁', '冂古', '弓殳', '糸虫', '囪*', '玄冖', '革马', '仌丨厂', '𠪚', '勹屮', '𢇇', '王尓貝', '𤰔', '儿丷', '土方', '?贝', '少馬', '大夲', '里犬', '王丷', '𡰪', '甫方', '丑山', '丶耳', '?灬', '兀?', '白巾', '亠厶', '十冂', '丈?', '𤴓', '亠口', '爫夫', '臼日', '丷一', '圭*', '巩女', '勺?一', '丨臣', '戶戈', '𤼙', '升日', '一曲', '𩠐', '酉分', '禾*', '关土', '覀舛', '石又', '目目', '乚米*', '士乙工', '幺夂', '网*', '山巾', '弓雚', '丶囗', '元女', '兄兄', '甲一', '一口', '冫白冫', '白方', '笍*', '𤇕', '死廾', '犬山', '单斤', '火言火', '?人', '𩾏', '㨨', '𤴛', '彳娄', '罒羽', '⻃大巳', '十罒心', '豸刂', '2丶4', '𦔻', '辶*', '甚育', '乛心夂', '兼*', '𣂑', '貭*', '肀用', '臼?', '界?', '彐工口', '爿未', '~收', '纟车纟', '⺕', '众*', '宀帚又', '羊?', '儿方', '目大㔾', '士?车', '丶囗米', '㳄', '又?山', '𠮦', '夂一生', '鬯彡', '2矢', '戺*', '焄*?', '肀*', '美*', '自仑', '刍攵', '元攴', '⺍', '𢆉', '粉廾', '臣午口', '凵?八夊', '大廾', '一由八', '𨠭', '𣏟', '卜冊', '丬彐冖又', '正正', '卪卪', '幺戈幺', '目乚巛', ' 丷', '弓土', '又*疋', '田*电', '兒*', '㾜', '山大', '𦆕', '7?共', '𠙽', '龷', '夂生', '丑丑丑', '川用', '𧛱', '𪯧', '臣月', '土九', '亻丨', '止頁*巳', '刃?止', '𤿺', '夂貢', '二水', '?', '小厂', '阝产', '亠从木', '士冖一目', '业*', '末成', '亠?', '亠从', '𡯄', '宀7', '十戈业', '汞*', '木缶木', '爿?冖又', '广廿', '艮殳', '木爻木', '申又', '鼠?', '臼土', '臣亽*', '尿*', '鸟*', '魝*', '⺽水', '⺁', '彳世', '扌2子', '穴人夕', '一弋', '無*', '广肀', '𦙲', '厶心', '辵匕', '市*', '皕血', '丶口', '八口', '氵七', '㸚', '厶?', '𦣝', '隹冏', '厶十囬', '畄?口', '水廾'}\n"
     ]
    }
   ],
   "source": [
    "print(no_record_set)"
   ]
  },
  {
   "cell_type": "code",
   "execution_count": null,
   "id": "209215bd-e1b6-4662-9844-6f9096db37b3",
   "metadata": {},
   "outputs": [
    {
     "data": {
      "text/plain": [
       "444"
      ]
     },
     "execution_count": 58,
     "metadata": {},
     "output_type": "execute_result"
    }
   ],
   "source": [
    "len(no_record_set)"
   ]
  },
  {
   "cell_type": "code",
   "execution_count": null,
   "id": "0b798e65-fdd4-439a-8ee3-e5f088dbd73c",
   "metadata": {},
   "outputs": [
    {
     "data": {
      "text/plain": [
       "21166"
      ]
     },
     "execution_count": 54,
     "metadata": {},
     "output_type": "execute_result"
    }
   ],
   "source": [
    "len(all_components)"
   ]
  },
  {
   "cell_type": "code",
   "execution_count": 78,
   "id": "87f17679-b083-4982-bd94-b930adca6982",
   "metadata": {},
   "outputs": [
    {
     "data": {
      "text/html": [
       "<div>\n",
       "<style scoped>\n",
       "    .dataframe tbody tr th:only-of-type {\n",
       "        vertical-align: middle;\n",
       "    }\n",
       "\n",
       "    .dataframe tbody tr th {\n",
       "        vertical-align: top;\n",
       "    }\n",
       "\n",
       "    .dataframe thead th {\n",
       "        text-align: right;\n",
       "    }\n",
       "</style>\n",
       "<table border=\"1\" class=\"dataframe\">\n",
       "  <thead>\n",
       "    <tr style=\"text-align: right;\">\n",
       "      <th></th>\n",
       "      <th>Strokes</th>\n",
       "      <th>CompositionType</th>\n",
       "      <th>LeftComponent</th>\n",
       "      <th>LeftStrokes</th>\n",
       "      <th>RightComponent</th>\n",
       "      <th>RightStrokes</th>\n",
       "      <th>Signature</th>\n",
       "      <th>Notes</th>\n",
       "      <th>Section</th>\n",
       "    </tr>\n",
       "    <tr>\n",
       "      <th>Component</th>\n",
       "      <th></th>\n",
       "      <th></th>\n",
       "      <th></th>\n",
       "      <th></th>\n",
       "      <th></th>\n",
       "      <th></th>\n",
       "      <th></th>\n",
       "      <th></th>\n",
       "      <th></th>\n",
       "    </tr>\n",
       "  </thead>\n",
       "  <tbody>\n",
       "    <tr>\n",
       "      <th>癟</th>\n",
       "      <td>19</td>\n",
       "      <td>吕</td>\n",
       "      <td>疒</td>\n",
       "      <td>5</td>\n",
       "      <td>自亼冊</td>\n",
       "      <td>14</td>\n",
       "      <td>KHUB</td>\n",
       "      <td>/?</td>\n",
       "      <td>疒</td>\n",
       "    </tr>\n",
       "  </tbody>\n",
       "</table>\n",
       "</div>"
      ],
      "text/plain": [
       "           Strokes CompositionType LeftComponent  LeftStrokes RightComponent  \\\n",
       "Component                                                                      \n",
       "癟               19               吕             疒            5            自亼冊   \n",
       "\n",
       "           RightStrokes Signature Notes Section  \n",
       "Component                                        \n",
       "癟                    14      KHUB    /?       疒  "
      ]
     },
     "execution_count": 78,
     "metadata": {},
     "output_type": "execute_result"
    }
   ],
   "source": [
    "ccd.loc[ccd.RightComponent == '自亼冊']"
   ]
  },
  {
   "cell_type": "markdown",
   "id": "661306a2-47b5-486c-a91a-400c033d1f43",
   "metadata": {},
   "source": [
    "#### As a result of this EDA, I'm going to do three things:\n",
    "1. Drop the asterisk (*) and question mark (?) automatically.\n",
    "2. Split records by character as that will yield a few extra records, and it looks like these multiple-component entries are kinda interesting.\n",
    "3. Continue to ignore parent components that don't have their own record."
   ]
  },
  {
   "cell_type": "markdown",
   "id": "29225dfb",
   "metadata": {
    "heading_collapsed": true,
    "tags": []
   },
   "source": [
    "## get and graph vertical family trees"
   ]
  },
  {
   "cell_type": "markdown",
   "id": "309ba13d",
   "metadata": {
    "heading_collapsed": true,
    "hidden": true,
    "tags": []
   },
   "source": [
    "### get all ancestors"
   ]
  },
  {
   "cell_type": "code",
   "execution_count": 6,
   "id": "f5696de7",
   "metadata": {
    "code_folding": [
     0
    ],
    "hidden": true
   },
   "outputs": [],
   "source": [
    "def get_all_ancestors(comp:str) -> list[str]:\n",
    "    \"\"\"\n",
    "        INPUTS: character component as str\n",
    "        OUTPUTS: list of all ancestor components\n",
    "    \"\"\"\n",
    "    # all-ancestors stack of characters\n",
    "    aa_stack = [comp]\n",
    "    aa_list = [comp]\n",
    "    \n",
    "    while aa_stack:\n",
    "        c = aa_stack.pop(0)\n",
    "        \n",
    "        parents = get_parents_lr(c)\n",
    "        for l_r in parents:\n",
    "            if parents[l_r]:\n",
    "                aa_stack.append(parents[l_r])\n",
    "                aa_list.append(parents[l_r])\n",
    "    return aa_list"
   ]
  },
  {
   "cell_type": "markdown",
   "id": "c10d5ae9",
   "metadata": {
    "heading_collapsed": true,
    "hidden": true,
    "tags": []
   },
   "source": [
    "#### child functions"
   ]
  },
  {
   "cell_type": "code",
   "execution_count": 7,
   "id": "47197b1e",
   "metadata": {
    "code_folding": [
     0,
     1
    ],
    "hidden": true
   },
   "outputs": [],
   "source": [
    "def get_parents_lr(comp:str) -> dict:\n",
    "    \"\"\"\n",
    "        if:\n",
    "            - the decomposed-/parent-component is different than its composite-child, and\n",
    "            - the decomposed-/parent-component has its own record,\n",
    "        then:\n",
    "            - show the decomposed-/parent-component as the dict value,\n",
    "        else:\n",
    "            - show None\n",
    "    \"\"\"\n",
    "    [lc, rc] = ccd.loc[comp][['LeftComponent','RightComponent']].to_list()\n",
    "    \n",
    "    if lc != comp:\n",
    "        l = check_for_parents(lc)\n",
    "    else:\n",
    "        l = None\n",
    "        \n",
    "    if rc != comp:\n",
    "        r = check_for_parents(rc)\n",
    "    else:\n",
    "        r = None\n",
    "    \n",
    "    return {'LeftComponent': l, 'RightComponent': r}"
   ]
  },
  {
   "cell_type": "code",
   "execution_count": 8,
   "id": "73706dff",
   "metadata": {
    "hidden": true
   },
   "outputs": [],
   "source": [
    "def get_parents(c:str) -> list:\n",
    "    return pdb[c]"
   ]
  },
  {
   "cell_type": "code",
   "execution_count": 9,
   "id": "5cea8b9f",
   "metadata": {
    "code_folding": [
     0,
     1
    ],
    "hidden": true
   },
   "outputs": [],
   "source": [
    "def check_for_parents(comp:str) -> int:\n",
    "    \"\"\"\n",
    "        If a string is a component with its own record of parents, \n",
    "            then return that index. \n",
    "        Else,\n",
    "            return None.\n",
    "        (This function is used to build get_parents_lr)\n",
    "    \"\"\"\n",
    "    try:\n",
    "        return ccd.loc[comp].name\n",
    "    except KeyError:\n",
    "        return None"
   ]
  },
  {
   "cell_type": "code",
   "execution_count": 10,
   "id": "128313ca-e446-4743-8718-9780363816b1",
   "metadata": {},
   "outputs": [],
   "source": [
    "def make_parents_db() -> dict:\n",
    "    \"\"\"\n",
    "    Create database of immediate parent-components, for quick searching in that direction.\n",
    "    \"\"\"\n",
    "    allcomps = ccd.index\n",
    "    parents_db = {c: [] for c in allcomps}\n",
    "    for c in ccd.index:\n",
    "        parents_db[c] = list(get_parents_lr(c).values())\n",
    "    return parents_db"
   ]
  },
  {
   "cell_type": "markdown",
   "id": "cea02746",
   "metadata": {
    "heading_collapsed": true,
    "hidden": true,
    "tags": []
   },
   "source": [
    "### get kids "
   ]
  },
  {
   "cell_type": "code",
   "execution_count": 11,
   "id": "e97ee839",
   "metadata": {
    "code_folding": [
     0
    ],
    "hidden": true
   },
   "outputs": [],
   "source": [
    "def get_all_descendents(comp:str) -> dict:\n",
    "    \"\"\"\n",
    "        INPUTS: target component\n",
    "        OUTPUTS: list of all descendant components\n",
    "    \"\"\"\n",
    "    ad_stack = [comp]\n",
    "    ad_list = [comp]\n",
    "\n",
    "    while ad_stack:\n",
    "        c = ad_stack.pop(0)\n",
    "        kids = kdb[c]\n",
    "        for kid in kids:\n",
    "            ad_stack.append(kid)\n",
    "            ad_list.append(kid)\n",
    "    \n",
    "    return ad_list"
   ]
  },
  {
   "cell_type": "markdown",
   "id": "7c18d9e9",
   "metadata": {
    "heading_collapsed": true,
    "hidden": true,
    "tags": []
   },
   "source": [
    "#### child functions"
   ]
  },
  {
   "cell_type": "code",
   "execution_count": 12,
   "id": "9b384fda",
   "metadata": {
    "code_folding": [
     0
    ],
    "hidden": true
   },
   "outputs": [],
   "source": [
    "def get_kids():\n",
    "    return kdb[c]"
   ]
  },
  {
   "cell_type": "code",
   "execution_count": 13,
   "id": "cb63f20f",
   "metadata": {
    "code_folding": [
     0
    ],
    "hidden": true
   },
   "outputs": [],
   "source": [
    "def make_kids_db() -> dict:\n",
    "    \"\"\"\n",
    "    Create database of immediate children-components, for quick searching in that direction.\n",
    "    \"\"\"\n",
    "    allcomps = ccd.index\n",
    "    kids_db = {c: [] for c in allcomps}\n",
    "    for c in ccd.index:\n",
    "        comps = ccd.loc[c][['LeftComponent','RightComponent']].to_list()\n",
    "        for xc in comps:\n",
    "            if xc == c:\n",
    "                continue\n",
    "            try:\n",
    "                kids_db[xc].append(c)\n",
    "            except:\n",
    "                pass\n",
    "    return kids_db"
   ]
  },
  {
   "cell_type": "markdown",
   "id": "2d473e6f",
   "metadata": {
    "heading_collapsed": true,
    "hidden": true,
    "tags": []
   },
   "source": [
    "### graph"
   ]
  },
  {
   "cell_type": "code",
   "execution_count": 85,
   "id": "3fad1dec",
   "metadata": {
    "code_folding": [
     0
    ],
    "hidden": true
   },
   "outputs": [],
   "source": [
    "def vertical_family_tree(comp:str, directory:str):\n",
    "    dot = graphviz.Digraph(comment='vertical family tree')\n",
    "    aa = get_all_ancestors(comp)\n",
    "    for c in aa:\n",
    "        add_nodes_and_edges_parents(c, dot)\n",
    "\n",
    "    add_nodes_and_edges_kids(comp, dot)\n",
    "    \n",
    "    dot.engine = 'neato'\n",
    "    dot.attr('graph', overlap='false')\n",
    "    \n",
    "    if 'Digraph.gv.pdf' in os.listdir(directory):\n",
    "        os.remove(directory + 'Digraph.gv.pdf')\n",
    "    \n",
    "    filename = dot.render(format='png', directory=directory)\n",
    "    \n",
    "    return dot"
   ]
  },
  {
   "cell_type": "code",
   "execution_count": 15,
   "id": "85416d7c",
   "metadata": {
    "code_folding": [
     0
    ],
    "hidden": true
   },
   "outputs": [],
   "source": [
    "def add_nodes_and_edges_parents(comp:str, dot:graphviz.Digraph):\n",
    "    [lc, rc] = ccd.loc[comp, ['LeftComponent', 'RightComponent']].tolist()\n",
    "    \n",
    "    dot.node(comp)\n",
    "    \n",
    "    if comp == lc:\n",
    "        return None\n",
    "    \n",
    "    parents = get_parents_lr(comp)\n",
    "    if parents['LeftComponent']:\n",
    "        dot.edges([f\"{lc}{comp}\"])\n",
    "    if parents['RightComponent']:\n",
    "        dot.edges([f\"{rc}{comp}\"])\n",
    "    return None"
   ]
  },
  {
   "cell_type": "code",
   "execution_count": 16,
   "id": "62f32c64",
   "metadata": {
    "code_folding": [
     0
    ],
    "hidden": true
   },
   "outputs": [],
   "source": [
    "def add_nodes_and_edges_kids(comp:str, dot:graphviz.Digraph):\n",
    "    dot_body_joined = ''.join(dot.body)\n",
    "    dot_body_charset = set(dot_body_joined)\n",
    "    comp_and_kids = kdb[comp] + [comp]\n",
    "    for c in comp_and_kids:\n",
    "        if c not in dot_body_charset:\n",
    "            dot.node(c)\n",
    "    for c in kdb[comp]:\n",
    "        dot.edges([f\"{comp}{c}\"])"
   ]
  },
  {
   "cell_type": "markdown",
   "id": "5a9b112f",
   "metadata": {
    "heading_collapsed": true,
    "hidden": true,
    "tags": []
   },
   "source": [
    "### get_and_graph"
   ]
  },
  {
   "cell_type": "markdown",
   "id": "4fc0e722-207e-4b36-8851-64307356a0a0",
   "metadata": {
    "tags": []
   },
   "source": [
    "###### get kids and parents databases and pickle"
   ]
  },
  {
   "cell_type": "code",
   "execution_count": 17,
   "id": "ddf6f5bc",
   "metadata": {
    "hidden": true
   },
   "outputs": [],
   "source": [
    "kdb = make_kids_db()\n",
    "pdb = make_parents_db()"
   ]
  },
  {
   "cell_type": "code",
   "execution_count": 18,
   "id": "24d48785-4ea8-4e04-bd6b-4d293ef48147",
   "metadata": {},
   "outputs": [],
   "source": [
    "with open('../assets/ccd_pdb_kdb.pickle', 'wb') as f:\n",
    "    pickle.dump((ccd, pdb, kdb), f)"
   ]
  },
  {
   "cell_type": "markdown",
   "id": "162cf126-22b3-481b-a614-eb1c4f0bcd8c",
   "metadata": {
    "tags": []
   },
   "source": [
    "###### graph"
   ]
  },
  {
   "cell_type": "code",
   "execution_count": 86,
   "id": "e973188b",
   "metadata": {
    "hidden": true
   },
   "outputs": [],
   "source": [
    "if not os.path.isdir('../data/processed/'):\n",
    "    os.makedirs('../data/processed/')\n",
    "dot = vertical_family_tree('青', '../data/processed/')"
   ]
  },
  {
   "cell_type": "code",
   "execution_count": 84,
   "id": "027061d4-cdb8-441d-a09a-47c1d770425f",
   "metadata": {},
   "outputs": [],
   "source": [
    "!evince ../data/processed/Digraph.gv.pdf"
   ]
  },
  {
   "cell_type": "code",
   "execution_count": 22,
   "id": "33dcdcc4",
   "metadata": {
    "hidden": true
   },
   "outputs": [
    {
     "name": "stdout",
     "output_type": "stream",
     "text": [
      "display-im6.q16: unable to open image `../data/processed/Digraph.gv.pdf': No such file or directory @ error/blob.c/OpenBlob/2874.\n"
     ]
    }
   ],
   "source": [
    "# !display ../data/processed/Digraph.gv.svg"
   ]
  },
  {
   "cell_type": "markdown",
   "id": "cc34ec8a-ba52-42c5-b474-e8aec82fc5f2",
   "metadata": {},
   "source": [
    "#### export pdf"
   ]
  },
  {
   "cell_type": "code",
   "execution_count": null,
   "id": "83f1b885-4a47-4370-ae0a-e6228164b12d",
   "metadata": {},
   "outputs": [],
   "source": []
  },
  {
   "cell_type": "markdown",
   "id": "89982377",
   "metadata": {
    "tags": []
   },
   "source": [
    "## connect two trees (tt)"
   ]
  },
  {
   "cell_type": "markdown",
   "id": "68e15f5c",
   "metadata": {
    "heading_collapsed": true,
    "tags": []
   },
   "source": [
    "##### designing scorefunc"
   ]
  },
  {
   "cell_type": "code",
   "execution_count": null,
   "id": "0738fb3f",
   "metadata": {
    "hidden": true
   },
   "outputs": [],
   "source": [
    "def score(comp:str) -> int:\n",
    "    strokes = ccd.loc[comp].Strokes\n",
    "    epsilon = 0.1 / ord(comp)\n",
    "    return scorefunc(strokes) + epsilon\n",
    "\n",
    "def scorefunc(strokes:int):\n",
    "    x = strokes - 6\n",
    "    y1 = 0 if x < 0 else .001*x**2\n",
    "    y2 = 0 if x > 0 else .07*np.exp(-x)\n",
    "    return 1 + y1 + y2"
   ]
  },
  {
   "cell_type": "code",
   "execution_count": null,
   "id": "9633b118",
   "metadata": {
    "hidden": true
   },
   "outputs": [],
   "source": [
    "fig = plt.figure(figsize=(10,4))\n",
    "ax = fig.gca()\n",
    "stroke_count_occurence = ccd.Strokes.value_counts().sort_index()\n",
    "stroke_count_occurence.map(np.log).rename('stroke-count: log-occurence').plot(ax=ax)\n",
    "stroke_count = stroke_count_occurence.index.to_series()\n",
    "stroke_count.map(scorefunc).rename('stroke_scores').plot(ax=ax)\n",
    "max_strokes = ccd.Strokes.max()\n",
    "ax.set_xlim(right=max_strokes)\n",
    "# ax.set_yscale('log')\n",
    "ax.legend()\n",
    "plt.show()"
   ]
  },
  {
   "cell_type": "markdown",
   "id": "4d99cc53",
   "metadata": {
    "tags": []
   },
   "source": [
    "#### let the buds sprout"
   ]
  },
  {
   "cell_type": "markdown",
   "id": "b9108f99",
   "metadata": {
    "tags": []
   },
   "source": [
    "###### setup"
   ]
  },
  {
   "cell_type": "code",
   "execution_count": null,
   "id": "f7eaedfb",
   "metadata": {},
   "outputs": [],
   "source": [
    "kdb = make_kids_db()"
   ]
  },
  {
   "cell_type": "code",
   "execution_count": null,
   "id": "07288544",
   "metadata": {},
   "outputs": [],
   "source": [
    "def look_at_next(T1):\n",
    "    T1_keys = list(T1.keys())  # complete list of keys from previous state\n",
    "    t1 = {} # building the new state\n",
    "    for a in T1_keys:\n",
    "        t1[a] = {} # initialize a dict for each of previous state's keys\n",
    "        for b in (i for i in get_kids(a) + get_parents(a) if i): \n",
    "            t1[a][b] = (T1[a][0] + [b],\n",
    "                        T1[a][1] + score(b))\n",
    "    return t1"
   ]
  },
  {
   "cell_type": "code",
   "execution_count": null,
   "id": "85929fbe",
   "metadata": {},
   "outputs": [],
   "source": [
    "def take_next_step(T1, t1):\n",
    "    for c in t1:\n",
    "        for d in t1[c]:\n",
    "            try:\n",
    "                T1[d]\n",
    "            except KeyError as e:\n",
    "                T1[d] = t1[c][d]\n",
    "            if T1[d][1] > t1[c][d][1]:\n",
    "                T1[d] = t1[c][d]\n",
    "    return T1"
   ]
  },
  {
   "cell_type": "markdown",
   "id": "c87d857b",
   "metadata": {},
   "source": [
    "###### start"
   ]
  },
  {
   "cell_type": "code",
   "execution_count": null,
   "id": "95f600f2",
   "metadata": {},
   "outputs": [],
   "source": [
    "# starts = ('祥','愛') # [祥, 羊, 鮮, 魚, 鱫, 愛]\n",
    "# starts = ('潘','祥')  # [潘, 番, 翻, 羽, 翔, 羊, 祥]\n",
    "# starts = ('潘', '愛') # [潘, 番, 鐇, 金, 鑀, 愛]\n",
    "# starts = ('芒', '愛') # [芒, 恾, 忄, 懓, 愛]\n",
    "# starts = ('芒', '祥') # [芒, 硭, 石, 祏, 礻, 祥]\n",
    "\n",
    "starts = ('青', '鳥')\n",
    "s = starts\n",
    "T1 = {s[0]: ([s[0]], 0)}\n",
    "T2 = {s[1]: ([s[1]], 0)}"
   ]
  },
  {
   "cell_type": "code",
   "execution_count": null,
   "id": "af413055-c862-4fb5-9885-f8bc6876c3db",
   "metadata": {},
   "outputs": [],
   "source": [
    "t1 = look_at_next(T1)\n",
    "t2 = look_at_next(T2)\n",
    "T1 = take_next_step(T1, t1)\n",
    "T2 = take_next_step(T2, t2)\n",
    "print((len(T1), len(T2)))\n",
    "intersection = set(T1).intersection(set(T2))\n",
    "print(len(intersection))"
   ]
  },
  {
   "cell_type": "code",
   "execution_count": null,
   "id": "0330a38c",
   "metadata": {},
   "outputs": [],
   "source": [
    "scoring = {c: (T1[c][1] + T2[c][1]) for c in intersection}\n",
    "scoring = pd.Series(scoring, name='scoring').to_frame()\n",
    "path = {c: (T1[c][0] + T2[c][0][:-1][::-1]) for c in intersection}\n",
    "path = pd.Series(path, name='path').to_frame()\n",
    "path_scores = path.join(scoring).sort_values('scoring', ascending=True)"
   ]
  },
  {
   "cell_type": "code",
   "execution_count": null,
   "id": "0badc499",
   "metadata": {},
   "outputs": [],
   "source": [
    "path_scores.head(10)"
   ]
  }
 ],
 "metadata": {
  "kernelspec": {
   "display_name": "Python 3 (ipykernel)",
   "language": "python",
   "name": "python3"
  },
  "language_info": {
   "codemirror_mode": {
    "name": "ipython",
    "version": 3
   },
   "file_extension": ".py",
   "mimetype": "text/x-python",
   "name": "python",
   "nbconvert_exporter": "python",
   "pygments_lexer": "ipython3",
   "version": "3.9.7"
  }
 },
 "nbformat": 4,
 "nbformat_minor": 5
}
