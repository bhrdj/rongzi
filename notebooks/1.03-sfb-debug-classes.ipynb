{
 "cells": [
  {
   "cell_type": "markdown",
   "id": "4f2eeef7-d331-4f56-98f8-35877125df74",
   "metadata": {},
   "source": [
    "# Characters Degrees of Separation -- Classes`"
   ]
  },
  {
   "cell_type": "markdown",
   "id": "f37fed1e-1cdf-4258-b5a9-2a898ca9b8d8",
   "metadata": {},
   "source": [
    "#### setup"
   ]
  },
  {
   "cell_type": "code",
   "execution_count": 2,
   "id": "ab21d3b3-d44f-4666-97f1-8d26b0453e65",
   "metadata": {},
   "outputs": [],
   "source": [
    "import pandas as pd, pickle, graphviz"
   ]
  },
  {
   "cell_type": "code",
   "execution_count": 3,
   "id": "5d42a251-b32f-4c59-a8f6-1808b1a7610b",
   "metadata": {},
   "outputs": [],
   "source": [
    "with open('../docs/pickle/ccd_kdb.pickle', 'rb') as f:\n",
    "    ccd,kdb = pickle.load(f)"
   ]
  },
  {
   "cell_type": "markdown",
   "id": "c12193ef-3ebe-4c9c-9aaf-29a304435b31",
   "metadata": {},
   "source": [
    "## class"
   ]
  },
  {
   "cell_type": "code",
   "execution_count": null,
   "id": "e2eeb71b-3cdd-41ba-a015-a2225b44b27c",
   "metadata": {},
   "outputs": [],
   "source": [
    "class "
   ]
  }
 ],
 "metadata": {
  "kernelspec": {
   "display_name": "Python 3 (ipykernel)",
   "language": "python",
   "name": "python3"
  },
  "language_info": {
   "codemirror_mode": {
    "name": "ipython",
    "version": 3
   },
   "file_extension": ".py",
   "mimetype": "text/x-python",
   "name": "python",
   "nbconvert_exporter": "python",
   "pygments_lexer": "ipython3",
   "version": "3.9.7"
  }
 },
 "nbformat": 4,
 "nbformat_minor": 5
}
