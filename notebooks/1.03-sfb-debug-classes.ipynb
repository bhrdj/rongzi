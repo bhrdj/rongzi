{
 "cells": [
  {
   "cell_type": "markdown",
   "id": "4f2eeef7-d331-4f56-98f8-35877125df74",
   "metadata": {},
   "source": [
    "# Characters Degrees of Separation -- Classes`"
   ]
  },
  {
   "cell_type": "code",
   "execution_count": null,
   "id": "ab21d3b3-d44f-4666-97f1-8d26b0453e65",
   "metadata": {},
   "outputs": [],
   "source": []
  }
 ],
 "metadata": {
  "kernelspec": {
   "display_name": "Python 3 (ipykernel)",
   "language": "python",
   "name": "python3"
  },
  "language_info": {
   "codemirror_mode": {
    "name": "ipython",
    "version": 3
   },
   "file_extension": ".py",
   "mimetype": "text/x-python",
   "name": "python",
   "nbconvert_exporter": "python",
   "pygments_lexer": "ipython3",
   "version": "3.9.7"
  }
 },
 "nbformat": 4,
 "nbformat_minor": 5
}
