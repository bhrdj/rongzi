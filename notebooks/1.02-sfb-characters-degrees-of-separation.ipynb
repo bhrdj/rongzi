{
 "cells": [
  {
   "cell_type": "markdown",
   "id": "4645831b-b4e5-4d11-8593-a1fe83272ba8",
   "metadata": {},
   "source": [
    "# Characters Degrees of Separation "
   ]
  },
  {
   "cell_type": "markdown",
   "id": "021bfd13-55d1-4475-a222-49bc33093013",
   "metadata": {
    "heading_collapsed": true,
    "jp-MarkdownHeadingCollapsed": true,
    "tags": []
   },
   "source": [
    "## Setup"
   ]
  },
  {
   "cell_type": "code",
   "execution_count": 9,
   "id": "a5f78089-3aa4-4790-8b50-a4cd4dbf06e8",
   "metadata": {
    "hidden": true
   },
   "outputs": [],
   "source": [
    "import pandas as pd, matplotlib.pyplot as plt, numpy as np\n",
    "import os, inspect, graphviz, pickle"
   ]
  },
  {
   "cell_type": "code",
   "execution_count": 10,
   "id": "c889be81",
   "metadata": {
    "hidden": true
   },
   "outputs": [
    {
     "data": {
      "text/plain": [
       "['WikiCCD_2021-07-18.csv']"
      ]
     },
     "execution_count": 10,
     "metadata": {},
     "output_type": "execute_result"
    }
   ],
   "source": [
    "os.listdir('../data/raw/')"
   ]
  },
  {
   "cell_type": "code",
   "execution_count": 11,
   "id": "c502e605",
   "metadata": {
    "hidden": true
   },
   "outputs": [],
   "source": [
    "ccd = pd.read_csv('../data/raw/WikiCCD_2021-07-18.csv')\n",
    "ccd = ccd.loc[ccd.index.difference([3618, 21004, 21100])]  # remove some duplicates\n",
    "ccd = ccd.set_index('Component')"
   ]
  },
  {
   "cell_type": "markdown",
   "id": "29225dfb",
   "metadata": {
    "heading_collapsed": true,
    "tags": []
   },
   "source": [
    "## get and graph vertical family trees"
   ]
  },
  {
   "cell_type": "markdown",
   "id": "309ba13d",
   "metadata": {
    "heading_collapsed": true,
    "hidden": true,
    "tags": []
   },
   "source": [
    "### get all ancestors"
   ]
  },
  {
   "cell_type": "code",
   "execution_count": 12,
   "id": "f5696de7",
   "metadata": {
    "code_folding": [
     0
    ],
    "hidden": true
   },
   "outputs": [],
   "source": [
    "def get_all_ancestors(comp:str) -> list[str]:\n",
    "    \"\"\"\n",
    "        INPUTS: character component as str\n",
    "        OUTPUTS: list of all ancestor components\n",
    "    \"\"\"\n",
    "    # all-ancestors stack of characters\n",
    "    aa_stack = [comp]\n",
    "    aa_list = [comp]\n",
    "    \n",
    "    while aa_stack:\n",
    "        c = aa_stack.pop(0)\n",
    "        \n",
    "        parents = get_parents_lr(c)\n",
    "        for l_r in parents:\n",
    "            if parents[l_r]:\n",
    "                aa_stack.append(parents[l_r])\n",
    "                aa_list.append(parents[l_r])\n",
    "    return aa_list"
   ]
  },
  {
   "cell_type": "markdown",
   "id": "c10d5ae9",
   "metadata": {
    "heading_collapsed": true,
    "hidden": true,
    "tags": []
   },
   "source": [
    "#### child functions"
   ]
  },
  {
   "cell_type": "code",
   "execution_count": 13,
   "id": "47197b1e",
   "metadata": {
    "code_folding": [
     0,
     1
    ],
    "hidden": true
   },
   "outputs": [],
   "source": [
    "def get_parents_lr(comp:str) -> dict:\n",
    "    \"\"\"\n",
    "        if:\n",
    "            - the decomposed-/parent-component is different than its composite-child, and\n",
    "            - the decomposed-/parent-component has its own record,\n",
    "        then:\n",
    "            - show the decomposed-/parent-component as the dict value,\n",
    "        else:\n",
    "            - show None\n",
    "    \"\"\"\n",
    "    [lc, rc] = ccd.loc[comp][['LeftComponent','RightComponent']].to_list()\n",
    "    \n",
    "    if lc != comp:\n",
    "        l = check_for_parents(lc)\n",
    "    else:\n",
    "        l = None\n",
    "        \n",
    "    if rc != comp:\n",
    "        r = check_for_parents(rc)\n",
    "    else:\n",
    "        r = None\n",
    "    \n",
    "    return {'LeftComponent': l, 'RightComponent': r}"
   ]
  },
  {
   "cell_type": "code",
   "execution_count": 14,
   "id": "73706dff",
   "metadata": {
    "hidden": true
   },
   "outputs": [],
   "source": [
    "def get_parents(c:str) -> list:\n",
    "    return pdb[c]"
   ]
  },
  {
   "cell_type": "code",
   "execution_count": 15,
   "id": "5cea8b9f",
   "metadata": {
    "code_folding": [
     0,
     1
    ],
    "hidden": true
   },
   "outputs": [],
   "source": [
    "def check_for_parents(comp:str) -> int:\n",
    "    \"\"\"\n",
    "        If a string is a component with its own record of parents, \n",
    "            then return that index. \n",
    "        Else,\n",
    "            return None.\n",
    "        (This function is used to build get_parents_lr)\n",
    "    \"\"\"\n",
    "    try:\n",
    "        return ccd.loc[comp].name\n",
    "    except KeyError:\n",
    "        return None"
   ]
  },
  {
   "cell_type": "code",
   "execution_count": 16,
   "id": "128313ca-e446-4743-8718-9780363816b1",
   "metadata": {},
   "outputs": [],
   "source": [
    "def make_parents_db() -> dict:\n",
    "    \"\"\"\n",
    "    Create database of immediate parent-components, for quick searching in that direction.\n",
    "    \"\"\"\n",
    "    allcomps = ccd.index\n",
    "    parents_db = {c: [] for c in allcomps}\n",
    "    for c in ccd.index:\n",
    "        parents_db[c] = list(get_parents_lr(c).values())\n",
    "    return parents_db"
   ]
  },
  {
   "cell_type": "markdown",
   "id": "cea02746",
   "metadata": {
    "heading_collapsed": true,
    "hidden": true,
    "tags": []
   },
   "source": [
    "### get kids "
   ]
  },
  {
   "cell_type": "code",
   "execution_count": 17,
   "id": "e97ee839",
   "metadata": {
    "code_folding": [
     0
    ],
    "hidden": true
   },
   "outputs": [],
   "source": [
    "def get_all_descendents(comp:str) -> dict:\n",
    "    \"\"\"\n",
    "        INPUTS: target component\n",
    "        OUTPUTS: list of all descendant components\n",
    "    \"\"\"\n",
    "    ad_stack = [comp]\n",
    "    ad_list = [comp]\n",
    "\n",
    "    while ad_stack:\n",
    "        c = ad_stack.pop(0)\n",
    "        kids = kdb[c]\n",
    "        for kid in kids:\n",
    "            ad_stack.append(kid)\n",
    "            ad_list.append(kid)\n",
    "    \n",
    "    return ad_list"
   ]
  },
  {
   "cell_type": "markdown",
   "id": "7c18d9e9",
   "metadata": {
    "heading_collapsed": true,
    "hidden": true,
    "tags": []
   },
   "source": [
    "#### child functions"
   ]
  },
  {
   "cell_type": "code",
   "execution_count": 18,
   "id": "9b384fda",
   "metadata": {
    "code_folding": [
     0
    ],
    "hidden": true
   },
   "outputs": [],
   "source": [
    "def get_kids():\n",
    "    return kdb[c]"
   ]
  },
  {
   "cell_type": "code",
   "execution_count": 19,
   "id": "cb63f20f",
   "metadata": {
    "code_folding": [
     0
    ],
    "hidden": true
   },
   "outputs": [],
   "source": [
    "def make_kids_db() -> dict:\n",
    "    \"\"\"\n",
    "    Create database of immediate children-components, for quick searching in that direction.\n",
    "    \"\"\"\n",
    "    allcomps = ccd.index\n",
    "    kids_db = {c: [] for c in allcomps}\n",
    "    for c in ccd.index:\n",
    "        comps = ccd.loc[c][['LeftComponent','RightComponent']].to_list()\n",
    "        for xc in comps:\n",
    "            if xc == c:\n",
    "                continue\n",
    "            try:\n",
    "                kids_db[xc].append(c)\n",
    "            except:\n",
    "                pass\n",
    "    return kids_db"
   ]
  },
  {
   "cell_type": "markdown",
   "id": "2d473e6f",
   "metadata": {
    "heading_collapsed": true,
    "hidden": true,
    "jp-MarkdownHeadingCollapsed": true,
    "tags": []
   },
   "source": [
    "### graph"
   ]
  },
  {
   "cell_type": "code",
   "execution_count": 20,
   "id": "3fad1dec",
   "metadata": {
    "code_folding": [
     0
    ],
    "hidden": true
   },
   "outputs": [],
   "source": [
    "def vertical_family_tree(comp:str, directory:str):\n",
    "    dot = graphviz.Digraph(comment='vertical family tree')\n",
    "    aa = get_all_ancestors(comp)\n",
    "    for c in aa:\n",
    "        add_nodes_and_edges_parents(c, dot)\n",
    "\n",
    "    add_nodes_and_edges_kids(comp, dot)\n",
    "    \n",
    "    if 'Digraph.gv.pdf' in os.listdir(directory):\n",
    "        os.remove(directory + 'Digraph.gv.pdf')\n",
    "    filename = dot.render(format='pdf', directory=directory)\n",
    "    \n",
    "    return dot"
   ]
  },
  {
   "cell_type": "code",
   "execution_count": 21,
   "id": "85416d7c",
   "metadata": {
    "code_folding": [
     0
    ],
    "hidden": true
   },
   "outputs": [],
   "source": [
    "def add_nodes_and_edges_parents(comp:str, dot:graphviz.Digraph):\n",
    "    [lc, rc] = ccd.loc[comp, ['LeftComponent', 'RightComponent']].tolist()\n",
    "    \n",
    "    dot.node(comp)\n",
    "    \n",
    "    if comp == lc:\n",
    "        return None\n",
    "    \n",
    "    parents = get_parents_lr(comp)\n",
    "    if parents['LeftComponent']:\n",
    "        dot.edges([f\"{lc}{comp}\"])\n",
    "    if parents['RightComponent']:\n",
    "        dot.edges([f\"{rc}{comp}\"])\n",
    "    return None"
   ]
  },
  {
   "cell_type": "code",
   "execution_count": 22,
   "id": "62f32c64",
   "metadata": {
    "code_folding": [
     0
    ],
    "hidden": true
   },
   "outputs": [],
   "source": [
    "def add_nodes_and_edges_kids(comp:str, dot:graphviz.Digraph):\n",
    "    dot_body_joined = ''.join(dot.body)\n",
    "    dot_body_charset = set(dot_body_joined)\n",
    "    comp_and_kids = kdb[comp] + [comp]\n",
    "    for c in comp_and_kids:\n",
    "        if c not in dot_body_charset:\n",
    "            dot.node(c)\n",
    "    for c in kdb[comp]:\n",
    "        dot.edges([f\"{comp}{c}\"])"
   ]
  },
  {
   "cell_type": "markdown",
   "id": "5a9b112f",
   "metadata": {
    "heading_collapsed": true,
    "hidden": true,
    "tags": []
   },
   "source": [
    "### get_and_graph"
   ]
  },
  {
   "cell_type": "markdown",
   "id": "4fc0e722-207e-4b36-8851-64307356a0a0",
   "metadata": {
    "tags": []
   },
   "source": [
    "###### get kids and parents databases and pickle"
   ]
  },
  {
   "cell_type": "code",
   "execution_count": 23,
   "id": "ddf6f5bc",
   "metadata": {
    "hidden": true
   },
   "outputs": [],
   "source": [
    "kdb = make_kids_db()\n",
    "pdb = make_parents_db()"
   ]
  },
  {
   "cell_type": "code",
   "execution_count": 24,
   "id": "24d48785-4ea8-4e04-bd6b-4d293ef48147",
   "metadata": {},
   "outputs": [],
   "source": [
    "with open('../docs/pickle/ccd_pdb_kdb.pickle', 'wb') as f:\n",
    "    pickle.dump((ccd, pdb, kdb), f)"
   ]
  },
  {
   "cell_type": "markdown",
   "id": "162cf126-22b3-481b-a614-eb1c4f0bcd8c",
   "metadata": {
    "tags": []
   },
   "source": [
    "###### graph"
   ]
  },
  {
   "cell_type": "code",
   "execution_count": null,
   "id": "e973188b",
   "metadata": {
    "hidden": true
   },
   "outputs": [],
   "source": [
    "if not os.path.isdir('../data/processed/'):\n",
    "    os.makedirs('../data/processed/')\n",
    "dot = vertical_family_tree('青', '../data/processed/')"
   ]
  },
  {
   "cell_type": "code",
   "execution_count": null,
   "id": "33dcdcc4",
   "metadata": {
    "hidden": true
   },
   "outputs": [],
   "source": [
    "!evince ../data/processed/Digraph.gv.pdf"
   ]
  },
  {
   "cell_type": "markdown",
   "id": "89982377",
   "metadata": {
    "tags": []
   },
   "source": [
    "## connect two trees (tt)"
   ]
  },
  {
   "cell_type": "markdown",
   "id": "68e15f5c",
   "metadata": {
    "heading_collapsed": true,
    "tags": []
   },
   "source": [
    "##### designing scorefunc"
   ]
  },
  {
   "cell_type": "code",
   "execution_count": null,
   "id": "0738fb3f",
   "metadata": {
    "hidden": true
   },
   "outputs": [],
   "source": [
    "def score(comp:str) -> int:\n",
    "    strokes = ccd.loc[comp].Strokes\n",
    "    epsilon = 0.1 / ord(comp)\n",
    "    return scorefunc(strokes) + epsilon\n",
    "\n",
    "def scorefunc(strokes:int):\n",
    "    x = strokes - 6\n",
    "    y1 = 0 if x < 0 else .001*x**2\n",
    "    y2 = 0 if x > 0 else .07*np.exp(-x)\n",
    "    return 1 + y1 + y2"
   ]
  },
  {
   "cell_type": "code",
   "execution_count": null,
   "id": "9633b118",
   "metadata": {
    "hidden": true
   },
   "outputs": [],
   "source": [
    "fig = plt.figure(figsize=(10,4))\n",
    "ax = fig.gca()\n",
    "stroke_count_occurence = ccd.Strokes.value_counts().sort_index()\n",
    "stroke_count_occurence.map(np.log).rename('stroke-count: log-occurence').plot(ax=ax)\n",
    "stroke_count = stroke_count_occurence.index.to_series()\n",
    "stroke_count.map(scorefunc).rename('stroke_scores').plot(ax=ax)\n",
    "max_strokes = ccd.Strokes.max()\n",
    "ax.set_xlim(right=max_strokes)\n",
    "# ax.set_yscale('log')\n",
    "ax.legend()\n",
    "plt.show()"
   ]
  },
  {
   "cell_type": "markdown",
   "id": "4d99cc53",
   "metadata": {
    "tags": []
   },
   "source": [
    "#### let the buds sprout"
   ]
  },
  {
   "cell_type": "markdown",
   "id": "b9108f99",
   "metadata": {
    "tags": []
   },
   "source": [
    "###### setup"
   ]
  },
  {
   "cell_type": "code",
   "execution_count": null,
   "id": "f7eaedfb",
   "metadata": {},
   "outputs": [],
   "source": [
    "kdb = make_kids_db()"
   ]
  },
  {
   "cell_type": "code",
   "execution_count": null,
   "id": "07288544",
   "metadata": {},
   "outputs": [],
   "source": [
    "def look_at_next(T1):\n",
    "    T1_keys = list(T1.keys())  # complete list of keys from previous state\n",
    "    t1 = {} # building the new state\n",
    "    for a in T1_keys:\n",
    "        t1[a] = {} # initialize a dict for each of previous state's keys\n",
    "        for b in (i for i in get_kids(a) + get_parents(a) if i): \n",
    "            t1[a][b] = (T1[a][0] + [b],\n",
    "                        T1[a][1] + score(b))\n",
    "    return t1"
   ]
  },
  {
   "cell_type": "code",
   "execution_count": null,
   "id": "85929fbe",
   "metadata": {},
   "outputs": [],
   "source": [
    "def take_next_step(T1, t1):\n",
    "    for c in t1:\n",
    "        for d in t1[c]:\n",
    "            try:\n",
    "                T1[d]\n",
    "            except KeyError as e:\n",
    "                T1[d] = t1[c][d]\n",
    "            if T1[d][1] > t1[c][d][1]:\n",
    "                T1[d] = t1[c][d]\n",
    "    return T1"
   ]
  },
  {
   "cell_type": "markdown",
   "id": "c87d857b",
   "metadata": {},
   "source": [
    "###### start"
   ]
  },
  {
   "cell_type": "code",
   "execution_count": null,
   "id": "95f600f2",
   "metadata": {},
   "outputs": [],
   "source": [
    "# starts = ('祥','愛') # [祥, 羊, 鮮, 魚, 鱫, 愛]\n",
    "# starts = ('潘','祥')  # [潘, 番, 翻, 羽, 翔, 羊, 祥]\n",
    "# starts = ('潘', '愛') # [潘, 番, 鐇, 金, 鑀, 愛]\n",
    "# starts = ('芒', '愛') # [芒, 恾, 忄, 懓, 愛]\n",
    "# starts = ('芒', '祥') # [芒, 硭, 石, 祏, 礻, 祥]\n",
    "\n",
    "starts = ('青', '鳥')\n",
    "s = starts\n",
    "T1 = {s[0]: ([s[0]], 0)}\n",
    "T2 = {s[1]: ([s[1]], 0)}"
   ]
  },
  {
   "cell_type": "code",
   "execution_count": null,
   "id": "af413055-c862-4fb5-9885-f8bc6876c3db",
   "metadata": {},
   "outputs": [],
   "source": [
    "t1 = look_at_next(T1)\n",
    "t2 = look_at_next(T2)\n",
    "T1 = take_next_step(T1, t1)\n",
    "T2 = take_next_step(T2, t2)\n",
    "print((len(T1), len(T2)))\n",
    "intersection = set(T1).intersection(set(T2))\n",
    "print(len(intersection))"
   ]
  },
  {
   "cell_type": "code",
   "execution_count": null,
   "id": "0330a38c",
   "metadata": {},
   "outputs": [],
   "source": [
    "scoring = {c: (T1[c][1] + T2[c][1]) for c in intersection}\n",
    "scoring = pd.Series(scoring, name='scoring').to_frame()\n",
    "path = {c: (T1[c][0] + T2[c][0][:-1][::-1]) for c in intersection}\n",
    "path = pd.Series(path, name='path').to_frame()\n",
    "path_scores = path.join(scoring).sort_values('scoring', ascending=True)"
   ]
  },
  {
   "cell_type": "code",
   "execution_count": null,
   "id": "0badc499",
   "metadata": {},
   "outputs": [],
   "source": [
    "path_scores.head(10)"
   ]
  }
 ],
 "metadata": {
  "kernelspec": {
   "display_name": "Python 3 (ipykernel)",
   "language": "python",
   "name": "python3"
  },
  "language_info": {
   "codemirror_mode": {
    "name": "ipython",
    "version": 3
   },
   "file_extension": ".py",
   "mimetype": "text/x-python",
   "name": "python",
   "nbconvert_exporter": "python",
   "pygments_lexer": "ipython3",
   "version": "3.9.7"
  }
 },
 "nbformat": 4,
 "nbformat_minor": 5
}
