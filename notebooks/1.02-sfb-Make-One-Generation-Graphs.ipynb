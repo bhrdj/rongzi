{
 "cells": [
  {
   "cell_type": "markdown",
   "id": "4645831b-b4e5-4d11-8593-a1fe83272ba8",
   "metadata": {},
   "source": [
    "# Make a one-generation graph"
   ]
  },
  {
   "cell_type": "markdown",
   "id": "0251a255-239a-4372-a0fb-463f0bc7ea25",
   "metadata": {},
   "source": [
    "## Pseudocode"
   ]
  },
  {
   "cell_type": "markdown",
   "id": "c6454f2a-e087-4de1-b652-64926d06abb0",
   "metadata": {},
   "source": [
    "### Display a graph for a character node"
   ]
  },
  {
   "cell_type": "markdown",
   "id": "32c55750-9c1e-4d39-8962-ef8ec93f3119",
   "metadata": {},
   "source": [
    "- show direct parents\n",
    "- show direct children"
   ]
  },
  {
   "cell_type": "markdown",
   "id": "09ccdd10",
   "metadata": {},
   "source": [
    "https://en.wikipedia.org/wiki/Bellman%E2%80%93Ford_algorithm"
   ]
  },
  {
   "cell_type": "markdown",
   "id": "021bfd13-55d1-4475-a222-49bc33093013",
   "metadata": {},
   "source": [
    "## Setup"
   ]
  },
  {
   "cell_type": "code",
   "execution_count": 1,
   "id": "a5f78089-3aa4-4790-8b50-a4cd4dbf06e8",
   "metadata": {},
   "outputs": [],
   "source": [
    "import pandas as pd\n",
    "import os, inspect, graphviz"
   ]
  },
  {
   "cell_type": "code",
   "execution_count": 2,
   "id": "c889be81",
   "metadata": {},
   "outputs": [
    {
     "data": {
      "text/plain": [
       "['WikiCCD_2021-07-18.csv']"
      ]
     },
     "execution_count": 2,
     "metadata": {},
     "output_type": "execute_result"
    }
   ],
   "source": [
    "os.listdir('../data/raw/')"
   ]
  },
  {
   "cell_type": "code",
   "execution_count": 25,
   "id": "c502e605",
   "metadata": {},
   "outputs": [],
   "source": [
    "df = pd.read_csv('../data/raw/WikiCCD_2021-07-18.csv')\n",
    "df = df.loc[df.index.difference([3618, 21004, 21100])]  # remove some duplicates\n",
    "df = df.set_index('Component')"
   ]
  },
  {
   "cell_type": "markdown",
   "id": "4c1181ca",
   "metadata": {},
   "source": [
    "## get and graph vertical family trees"
   ]
  },
  {
   "cell_type": "markdown",
   "id": "4bbf46d7",
   "metadata": {
    "heading_collapsed": true
   },
   "source": [
    "### get all ancestors"
   ]
  },
  {
   "cell_type": "code",
   "execution_count": 94,
   "id": "f7184376",
   "metadata": {
    "code_folding": [],
    "hidden": true
   },
   "outputs": [],
   "source": [
    "def get_all_ancestors(comp:str) -> list[str]:\n",
    "    \"\"\"\n",
    "        INPUTS: character component as str\n",
    "        OUTPUTS: list of all ancestor components\n",
    "    \"\"\"\n",
    "    # all-ancestors stack of characters\n",
    "    aa_stack = [comp]\n",
    "    aa_list = [comp]\n",
    "    \n",
    "    while aa_stack:\n",
    "        c = aa_stack.pop(0)\n",
    "        \n",
    "        parents = get_parents_that_have_a_record(c)\n",
    "        for l_r in parents:\n",
    "            if parents[l_r]:\n",
    "                aa_stack.append(parents[l_r])\n",
    "                aa_list.append(parents[l_r])\n",
    "    return aa_list"
   ]
  },
  {
   "cell_type": "markdown",
   "id": "ab93a02d",
   "metadata": {
    "heading_collapsed": true,
    "hidden": true
   },
   "source": [
    "#### child functions"
   ]
  },
  {
   "cell_type": "code",
   "execution_count": 92,
   "id": "47197b1e",
   "metadata": {
    "code_folding": [
     0,
     1
    ],
    "hidden": true
   },
   "outputs": [],
   "source": [
    "def get_parents_that_have_a_record(comp:str) -> dict:\n",
    "    \"\"\"\n",
    "        if:\n",
    "            - the sub-/parent-component is different than its child, and\n",
    "            - the sub-/parent-component has its own record\n",
    "        then:\n",
    "            - show the sub-/parent-component as the dict value,\n",
    "        else:\n",
    "            - show None\n",
    "    \"\"\"\n",
    "    [lc, rc] = df.loc[comp][['LeftComponent','RightComponent']].to_list()\n",
    "    \n",
    "    if lc != comp:\n",
    "        l = check_for_parents(lc)\n",
    "    else:\n",
    "        l = None\n",
    "        \n",
    "    if rc != comp:\n",
    "        r = check_for_parents(rc)\n",
    "    else:\n",
    "        r = None\n",
    "    \n",
    "    return {'LeftComponent': l, 'RightComponent': r}"
   ]
  },
  {
   "cell_type": "code",
   "execution_count": 49,
   "id": "5cea8b9f",
   "metadata": {
    "code_folding": [
     0,
     1
    ],
    "hidden": true
   },
   "outputs": [],
   "source": [
    "def check_for_parents(comp:str) -> int:\n",
    "    \"\"\"\n",
    "        If a string is a component with its own record of parents, \n",
    "            then return that index. \n",
    "        Else,\n",
    "            return None. \n",
    "    \"\"\"\n",
    "    try:\n",
    "        return df.loc[comp].name\n",
    "    except KeyError:\n",
    "        return None"
   ]
  },
  {
   "cell_type": "markdown",
   "id": "2e849d50",
   "metadata": {
    "heading_collapsed": true
   },
   "source": [
    "### get kids "
   ]
  },
  {
   "cell_type": "code",
   "execution_count": 67,
   "id": "65c489fe",
   "metadata": {
    "code_folding": [
     0
    ],
    "hidden": true
   },
   "outputs": [],
   "source": [
    "def get_all_descendents(comp:str) -> dict:\n",
    "    \"\"\"\n",
    "        INPUTS: target component\n",
    "        OUTPUTS: list of all descendant components\n",
    "    \"\"\"\n",
    "    ad_stack = [comp]\n",
    "    ad_list = [comp]\n",
    "\n",
    "    while ad_stack:\n",
    "        c = ad_stack.pop(0)\n",
    "        kids = kdb[c]\n",
    "        for kid in kids:\n",
    "            ad_stack.append(kid)\n",
    "            ad_list.append(kid)\n",
    "    \n",
    "    return ad_list"
   ]
  },
  {
   "cell_type": "markdown",
   "id": "6c3b70e4",
   "metadata": {
    "heading_collapsed": true,
    "hidden": true
   },
   "source": [
    "#### child functions"
   ]
  },
  {
   "cell_type": "code",
   "execution_count": 64,
   "id": "8bb80c80",
   "metadata": {
    "code_folding": [
     0
    ],
    "hidden": true
   },
   "outputs": [],
   "source": [
    "def get_kids_db() -> dict:\n",
    "    \"\"\"\n",
    "    Create database of immediate children-components, for quick searching in that direction.\n",
    "    \"\"\"\n",
    "    allcomps = df.index\n",
    "    kids = {c: [] for c in allcomps}\n",
    "    for c in df.index:\n",
    "        comps = df.loc[c][['LeftComponent','RightComponent']].to_list()\n",
    "        for xc in comps:\n",
    "            try:\n",
    "                kids[xc].append(c)\n",
    "            except:\n",
    "                pass\n",
    "    return kids"
   ]
  },
  {
   "cell_type": "markdown",
   "id": "ac38f07c",
   "metadata": {
    "heading_collapsed": true
   },
   "source": [
    "### graph"
   ]
  },
  {
   "cell_type": "code",
   "execution_count": 367,
   "id": "0baf2b01",
   "metadata": {
    "code_folding": [
     0
    ],
    "hidden": true
   },
   "outputs": [],
   "source": [
    "def vertical_family_tree(comp:str='雲', directory:str='../data/processed/'):\n",
    "    dot = graphviz.Digraph(comment='vertical family tree')\n",
    "    aa = get_all_ancestors(comp)\n",
    "    for c in aa:\n",
    "        add_nodes_and_edges_parents(c, dot)\n",
    "\n",
    "    add_edges_kids(comp, dot)\n",
    "    \n",
    "    if 'Digraph.gv.pdf' in os.listdir(directory):\n",
    "        os.remove(directory + 'Digraph.gv.pdf')\n",
    "    filename = dot.render(format='pdf', directory=directory)\n",
    "    \n",
    "    return dot"
   ]
  },
  {
   "cell_type": "code",
   "execution_count": 310,
   "id": "4d0cb7ab",
   "metadata": {
    "code_folding": [
     0
    ],
    "hidden": true
   },
   "outputs": [],
   "source": [
    "def add_nodes_and_edges_parents(comp:str, dot:graphviz.Digraph=dot):\n",
    "    [lc, rc] = df.loc[comp, ['LeftComponent', 'RightComponent']].tolist()\n",
    "    \n",
    "    dot.node(comp)\n",
    "    \n",
    "    if comp == lc:\n",
    "        return None\n",
    "    \n",
    "    parents = get_parents_that_have_a_record(comp)\n",
    "    if parents['LeftComponent']:\n",
    "        dot.edges([f\"{lc}{comp}\"])\n",
    "    if parents['RightComponent']:\n",
    "        dot.edges([f\"{rc}{comp}\"])\n",
    "    return None"
   ]
  },
  {
   "cell_type": "code",
   "execution_count": 311,
   "id": "655b8fb1",
   "metadata": {
    "code_folding": [
     0
    ],
    "hidden": true
   },
   "outputs": [],
   "source": [
    "def add_nodes_and_edges_kids(comp:str, dot:graphviz.Digraph):\n",
    "    dot_body_joined = ''.join(dot.body)\n",
    "    dot_body_charset = set(dot_body_joined)\n",
    "    comp_and_kids = kids_db[comp] + [comp]\n",
    "    for c in comp_and_kids:\n",
    "        if c not in dot_body_charset:\n",
    "            dot.node(c)\n",
    "    for c in kids_db[comp]:\n",
    "        dot.edges([f\"{comp}{c}\"])"
   ]
  },
  {
   "cell_type": "markdown",
   "id": "477fef93",
   "metadata": {
    "heading_collapsed": true
   },
   "source": [
    "### get_and_graph"
   ]
  },
  {
   "cell_type": "code",
   "execution_count": 364,
   "id": "57866f97",
   "metadata": {
    "hidden": true
   },
   "outputs": [],
   "source": [
    "kdb = get_kids_db()"
   ]
  },
  {
   "cell_type": "code",
   "execution_count": 370,
   "id": "ea8fb4aa",
   "metadata": {
    "hidden": true
   },
   "outputs": [],
   "source": [
    "dot = vertical_family_tree()"
   ]
  },
  {
   "cell_type": "code",
   "execution_count": 371,
   "id": "118f2a06",
   "metadata": {
    "hidden": true
   },
   "outputs": [],
   "source": [
    "!evince ../data/processed/Digraph.gv.pdf"
   ]
  },
  {
   "cell_type": "markdown",
   "id": "e37cb141",
   "metadata": {
    "heading_collapsed": true
   },
   "source": [
    "## connect two trees"
   ]
  },
  {
   "cell_type": "markdown",
   "id": "bc7b7280",
   "metadata": {
    "hidden": true
   },
   "source": [
    "(this will be the next step)"
   ]
  }
 ],
 "metadata": {
  "kernelspec": {
   "display_name": "Python 3 (ipykernel)",
   "language": "python",
   "name": "python3"
  },
  "language_info": {
   "codemirror_mode": {
    "name": "ipython",
    "version": 3
   },
   "file_extension": ".py",
   "mimetype": "text/x-python",
   "name": "python",
   "nbconvert_exporter": "python",
   "pygments_lexer": "ipython3",
   "version": "3.9.7"
  }
 },
 "nbformat": 4,
 "nbformat_minor": 5
}
