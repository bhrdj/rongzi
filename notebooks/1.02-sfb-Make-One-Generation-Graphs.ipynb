{
 "cells": [
  {
   "cell_type": "markdown",
   "id": "4645831b-b4e5-4d11-8593-a1fe83272ba8",
   "metadata": {},
   "source": [
    "# Make a one-generation graph"
   ]
  },
  {
   "cell_type": "markdown",
   "id": "0251a255-239a-4372-a0fb-463f0bc7ea25",
   "metadata": {},
   "source": [
    "## Pseudocode"
   ]
  },
  {
   "cell_type": "markdown",
   "id": "c6454f2a-e087-4de1-b652-64926d06abb0",
   "metadata": {},
   "source": [
    "### Display a graph for a character node"
   ]
  },
  {
   "cell_type": "markdown",
   "id": "32c55750-9c1e-4d39-8962-ef8ec93f3119",
   "metadata": {},
   "source": [
    "- show direct parents\n",
    "- show direct children"
   ]
  },
  {
   "cell_type": "markdown",
   "id": "365e584b",
   "metadata": {},
   "source": [
    "https://en.wikipedia.org/wiki/Bellman%E2%80%93Ford_algorithm"
   ]
  },
  {
   "cell_type": "markdown",
   "id": "021bfd13-55d1-4475-a222-49bc33093013",
   "metadata": {},
   "source": [
    "## Library Imports"
   ]
  },
  {
   "cell_type": "code",
   "execution_count": 10,
   "id": "a5f78089-3aa4-4790-8b50-a4cd4dbf06e8",
   "metadata": {},
   "outputs": [],
   "source": [
    "import pandas as pd\n",
    "import os, inspect, graphviz"
   ]
  },
  {
   "cell_type": "markdown",
   "id": "5f8ac257-6d62-4261-a766-39f7236ce439",
   "metadata": {},
   "source": [
    "## Peek at data"
   ]
  },
  {
   "cell_type": "code",
   "execution_count": 4,
   "id": "5174dab0",
   "metadata": {},
   "outputs": [
    {
     "data": {
      "text/plain": [
       "['WikiCCD_2021-07-18.csv']"
      ]
     },
     "execution_count": 4,
     "metadata": {},
     "output_type": "execute_result"
    }
   ],
   "source": [
    "os.listdir('../data/raw/')"
   ]
  },
  {
   "cell_type": "code",
   "execution_count": 6,
   "id": "5c8bea77",
   "metadata": {},
   "outputs": [],
   "source": [
    "df = pd.read_csv('../data/raw/WikiCCD_2021-07-18.csv')"
   ]
  },
  {
   "cell_type": "code",
   "execution_count": 218,
   "id": "6c4dea91",
   "metadata": {},
   "outputs": [],
   "source": [
    "def add_node_and_nontrivial_edges(idx:int, dot:graphviz.Digraph):\n",
    "    [c, lc, rc] = df.loc[idx, ['Component','LeftComponent', 'RightComponent']].tolist()\n",
    "    dot.node(c)\n",
    "    if c == lc:\n",
    "        return None\n",
    "    if is_relevant(idx, 'LeftComponent'):\n",
    "        dot.edges([f\"{lc}{c}\"])\n",
    "    if is_relevant(idx, 'RightComponent'):\n",
    "        dot.edges([f\"{rc}{c}\"])\n",
    "    return None"
   ]
  },
  {
   "cell_type": "code",
   "execution_count": 285,
   "id": "18f407ae",
   "metadata": {},
   "outputs": [],
   "source": [
    "def get_component_indices(i):\n",
    "    \"\"\"\n",
    "    if the sub-component is different than its parent, get the sub-component's index.\n",
    "    \"\"\"\n",
    "    if df.loc[i, 'LeftComponent'] != df.loc[i, 'Component']:\n",
    "        li = find_index(df.loc[i, 'LeftComponent'])\n",
    "    else:\n",
    "        li = None\n",
    "    if df.loc[i, 'RightComponent'] != df.loc[i, 'Component']:\n",
    "        ri = find_index(df.loc[i, 'RightComponent'])\n",
    "    else:\n",
    "        ri = None\n",
    "    return {'LeftComponent': li, 'RightComponent': ri}"
   ]
  },
  {
   "cell_type": "code",
   "execution_count": 267,
   "id": "1e1bc7dc",
   "metadata": {},
   "outputs": [],
   "source": [
    "def find_index(c:str) -> int:\n",
    "    try:\n",
    "        return df.loc[df.Component == c].index[0]\n",
    "    except IndexError:\n",
    "        return None"
   ]
  },
  {
   "cell_type": "code",
   "execution_count": 310,
   "id": "28fac8b5",
   "metadata": {},
   "outputs": [],
   "source": [
    "def get_all_ancestors(idx):\n",
    "    \"\"\"\n",
    "    \"\"\"\n",
    "    # i tracks the dataframe index for the current record\n",
    "    i = idx\n",
    "    # all-ancestors stack of characters\n",
    "    aa_stack = [df.loc[i, ['Component']][0]]\n",
    "    # all-ancestors dict; {dataframe_index: character}\n",
    "    aa_dict = {i: aa_stack[0]}\n",
    "    while aa_stack:\n",
    "        comp_idxs = get_component_indices(i)\n",
    "        for k in comp_idxs:\n",
    "            if comp_idxs[k]:\n",
    "                sub_component = df.loc[i, k][0]\n",
    "                aa_stack.append(sub_component)\n",
    "                aa_dict[comp_idxs[k]] = sub_component\n",
    "        i = find_index(aa_stack.pop(0))\n",
    "\n",
    "    return aa_dict"
   ]
  },
  {
   "cell_type": "code",
   "execution_count": 311,
   "id": "9bfed68a",
   "metadata": {},
   "outputs": [
    {
     "data": {
      "text/html": [
       "<div>\n",
       "<style scoped>\n",
       "    .dataframe tbody tr th:only-of-type {\n",
       "        vertical-align: middle;\n",
       "    }\n",
       "\n",
       "    .dataframe tbody tr th {\n",
       "        vertical-align: top;\n",
       "    }\n",
       "\n",
       "    .dataframe thead th {\n",
       "        text-align: right;\n",
       "    }\n",
       "</style>\n",
       "<table border=\"1\" class=\"dataframe\">\n",
       "  <thead>\n",
       "    <tr style=\"text-align: right;\">\n",
       "      <th></th>\n",
       "      <th>Component</th>\n",
       "      <th>Strokes</th>\n",
       "      <th>CompositionType</th>\n",
       "      <th>LeftComponent</th>\n",
       "      <th>LeftStrokes</th>\n",
       "      <th>RightComponent</th>\n",
       "      <th>RightStrokes</th>\n",
       "      <th>Signature</th>\n",
       "      <th>Notes</th>\n",
       "      <th>Section</th>\n",
       "    </tr>\n",
       "  </thead>\n",
       "  <tbody>\n",
       "    <tr>\n",
       "      <th>6000</th>\n",
       "      <td>敯</td>\n",
       "      <td>13</td>\n",
       "      <td>吅</td>\n",
       "      <td>昬</td>\n",
       "      <td>9</td>\n",
       "      <td>攴</td>\n",
       "      <td>4</td>\n",
       "      <td>RAYE</td>\n",
       "      <td>/</td>\n",
       "      <td>攵</td>\n",
       "    </tr>\n",
       "  </tbody>\n",
       "</table>\n",
       "</div>"
      ],
      "text/plain": [
       "     Component Strokes CompositionType LeftComponent LeftStrokes  \\\n",
       "6000         敯      13               吅             昬           9   \n",
       "\n",
       "     RightComponent RightStrokes Signature Notes Section  \n",
       "6000              攴            4      RAYE     /       攵  "
      ]
     },
     "metadata": {},
     "output_type": "display_data"
    },
    {
     "name": "stdout",
     "output_type": "stream",
     "text": [
      "{6000: '敯', 6189: '昬', 5941: '攴', 7698: '民', 6118: '日', 1372: '卜', 1480: '又'}\n"
     ]
    }
   ],
   "source": [
    "n = 6000\n",
    "display(df.loc[n].to_frame().T)\n",
    "print(get_all_ancestors(n))"
   ]
  },
  {
   "cell_type": "code",
   "execution_count": 331,
   "id": "bb5ae544",
   "metadata": {},
   "outputs": [
    {
     "data": {
      "text/plain": [
       "'// graph 99 chars\\ndigraph {\\n}\\n'"
      ]
     },
     "execution_count": 331,
     "metadata": {},
     "output_type": "execute_result"
    }
   ],
   "source": [
    "del dot\n",
    "dot = graphviz.Digraph(comment='graph 99 chars')\n",
    "dot.source"
   ]
  },
  {
   "cell_type": "code",
   "execution_count": 332,
   "id": "c7df05c8",
   "metadata": {},
   "outputs": [],
   "source": [
    "mychar1 = '愛'\n",
    "n1 = find_index(mychar1)\n",
    "aa1 = get_all_ancestors(n1)\n",
    "for i in list(aa1.keys()):\n",
    "    add_node_and_nontrivial_edges(i, dot)\n",
    "    \n",
    "mychar2 = '潘'\n",
    "n2 = find_index(mychar2)\n",
    "aa2 = get_all_ancestors(n2)\n",
    "for i in list(aa2.keys()):\n",
    "    add_node_and_nontrivial_edges(i, dot)"
   ]
  },
  {
   "cell_type": "code",
   "execution_count": 333,
   "id": "44954177",
   "metadata": {},
   "outputs": [
    {
     "data": {
      "text/plain": [
       "'Digraph.gv.pdf'"
      ]
     },
     "execution_count": 333,
     "metadata": {},
     "output_type": "execute_result"
    }
   ],
   "source": [
    "dot.render(format='pdf')"
   ]
  },
  {
   "cell_type": "code",
   "execution_count": 334,
   "id": "6f9e1896",
   "metadata": {},
   "outputs": [],
   "source": [
    "!evince Digraph.gv.pdf"
   ]
  },
  {
   "cell_type": "code",
   "execution_count": null,
   "id": "abee30d1",
   "metadata": {},
   "outputs": [],
   "source": []
  },
  {
   "cell_type": "code",
   "execution_count": null,
   "id": "34789262",
   "metadata": {},
   "outputs": [],
   "source": []
  },
  {
   "cell_type": "code",
   "execution_count": null,
   "id": "f7f5e8a8",
   "metadata": {},
   "outputs": [],
   "source": []
  },
  {
   "cell_type": "code",
   "execution_count": null,
   "id": "cbba3757",
   "metadata": {},
   "outputs": [],
   "source": []
  },
  {
   "cell_type": "code",
   "execution_count": null,
   "id": "283901d2",
   "metadata": {},
   "outputs": [],
   "source": []
  },
  {
   "cell_type": "code",
   "execution_count": null,
   "id": "06a0f657",
   "metadata": {},
   "outputs": [],
   "source": []
  },
  {
   "cell_type": "code",
   "execution_count": null,
   "id": "cf487ec4",
   "metadata": {},
   "outputs": [],
   "source": []
  }
 ],
 "metadata": {
  "kernelspec": {
   "display_name": "Python 3 (ipykernel)",
   "language": "python",
   "name": "python3"
  },
  "language_info": {
   "codemirror_mode": {
    "name": "ipython",
    "version": 3
   },
   "file_extension": ".py",
   "mimetype": "text/x-python",
   "name": "python",
   "nbconvert_exporter": "python",
   "pygments_lexer": "ipython3",
   "version": "3.9.7"
  }
 },
 "nbformat": 4,
 "nbformat_minor": 5
}
