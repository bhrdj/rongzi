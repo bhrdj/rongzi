{
 "cells": [
  {
   "cell_type": "markdown",
   "id": "a1f623e7-a5c3-41d9-949a-0594165801da",
   "metadata": {},
   "source": [
    "# Parse basic strokes"
   ]
  },
  {
   "cell_type": "code",
   "execution_count": 80,
   "id": "b3259d5e-b62b-4b6f-ac54-c84ef44cd093",
   "metadata": {},
   "outputs": [],
   "source": [
    "import os, re, io, scrapy, requests\n",
    "from bs4 import BeautifulSoup\n",
    "from IPython.core.display import display, HTML\n",
    "import pandas as pd\n",
    "os.getcwd()\n",
    "os.chdir('/home/bhrdwj/git/shhhh/notebooks/')"
   ]
  },
  {
   "cell_type": "markdown",
   "id": "13f65c74-a9bd-49b7-bc19-44328c28a044",
   "metadata": {
    "tags": []
   },
   "source": [
    "## using text file"
   ]
  },
  {
   "cell_type": "markdown",
   "id": "ffd390f5-be1a-4c1f-85b6-8572e378e1d3",
   "metadata": {},
   "source": [
    "### Initial edits"
   ]
  },
  {
   "cell_type": "code",
   "execution_count": 185,
   "id": "91cbc552-09e8-467b-954a-861e3203393e",
   "metadata": {},
   "outputs": [],
   "source": [
    "with open('../data/stroke_table.txt') as file:\n",
    "    f = file.readlines()"
   ]
  },
  {
   "cell_type": "code",
   "execution_count": 186,
   "id": "745e23c8-786f-4dd2-a210-6f18be883325",
   "metadata": {},
   "outputs": [
    {
     "data": {
      "text/plain": [
       "'Selected named CJK basic and compound strokes (41 items)\\n'"
      ]
     },
     "execution_count": 186,
     "metadata": {},
     "output_type": "execute_result"
    }
   ],
   "source": [
    "f.pop(0)"
   ]
  },
  {
   "cell_type": "code",
   "execution_count": 187,
   "id": "0c38d587-f039-429a-bd6e-728e781e6b4a",
   "metadata": {},
   "outputs": [],
   "source": [
    "f1 = []\n",
    "for line in f:\n",
    "    if re.match('Selected named CJK', line):\n",
    "        pass\n",
    "    elif re.match(r'Cjk m str|Dictionary meaning', line):\n",
    "        f1.append(line)"
   ]
  },
  {
   "cell_type": "code",
   "execution_count": 188,
   "id": "9f11ab4c-af5f-4d58-9faa-4e2a03b28d83",
   "metadata": {},
   "outputs": [],
   "source": [
    "df = pd.read_csv(io.StringIO(''.join(f)), sep='\\t')"
   ]
  },
  {
   "cell_type": "code",
   "execution_count": 158,
   "id": "d4bf6cea-fa7e-4908-a55a-38f268af2d20",
   "metadata": {},
   "outputs": [],
   "source": [
    "df.to_csv('out.csv')"
   ]
  },
  {
   "cell_type": "markdown",
   "id": "b8975bb3-7bcb-4bfb-b93e-5aa3fbe51b3d",
   "metadata": {},
   "source": [
    "### Second pass edits"
   ]
  },
  {
   "cell_type": "code",
   "execution_count": 191,
   "id": "da22a65f-450b-43da-9f0c-e1003546c3cc",
   "metadata": {},
   "outputs": [],
   "source": [
    "strokes = pd.read_csv('../data/strokes.csv')"
   ]
  },
  {
   "cell_type": "code",
   "execution_count": 193,
   "id": "438a38ff-4037-4fab-9a2d-792d330217b7",
   "metadata": {},
   "outputs": [
    {
     "data": {
      "text/html": [
       "<div>\n",
       "<style scoped>\n",
       "    .dataframe tbody tr th:only-of-type {\n",
       "        vertical-align: middle;\n",
       "    }\n",
       "\n",
       "    .dataframe tbody tr th {\n",
       "        vertical-align: top;\n",
       "    }\n",
       "\n",
       "    .dataframe thead th {\n",
       "        text-align: right;\n",
       "    }\n",
       "</style>\n",
       "<table border=\"1\" class=\"dataframe\">\n",
       "  <thead>\n",
       "    <tr style=\"text-align: right;\">\n",
       "      <th></th>\n",
       "      <th>Utf8_char</th>\n",
       "      <th>Name in PRC</th>\n",
       "      <th>Full Name</th>\n",
       "      <th>Example characters</th>\n",
       "    </tr>\n",
       "  </thead>\n",
       "  <tbody>\n",
       "    <tr>\n",
       "      <th>0</th>\n",
       "      <td>㇐</td>\n",
       "      <td>横</td>\n",
       "      <td>Héng</td>\n",
       "      <td>二 三 丁 丞 丈 世 不 上 十 卅 七</td>\n",
       "    </tr>\n",
       "    <tr>\n",
       "      <th>1</th>\n",
       "      <td>㇀</td>\n",
       "      <td>提</td>\n",
       "      <td>Tí</td>\n",
       "      <td>冰 淋 病 孑 治 冶 冽 暴 氾 录 地 虫</td>\n",
       "    </tr>\n",
       "    <tr>\n",
       "      <th>2</th>\n",
       "      <td>㇖</td>\n",
       "      <td>横钩</td>\n",
       "      <td>Héng Gōu</td>\n",
       "      <td>疋 了 危 予 矛 子 字 令 疏 写 冖</td>\n",
       "    </tr>\n",
       "    <tr>\n",
       "      <th>3</th>\n",
       "      <td>㇇</td>\n",
       "      <td>横撇</td>\n",
       "      <td>Héng Piě</td>\n",
       "      <td>又 水 夕 径 炙 双 叒 今</td>\n",
       "    </tr>\n",
       "    <tr>\n",
       "      <th>4</th>\n",
       "      <td>㇕</td>\n",
       "      <td>横折</td>\n",
       "      <td>Héng Zhé</td>\n",
       "      <td>口 囗 己 田 品 吕 申 甲 圆 巪</td>\n",
       "    </tr>\n",
       "    <tr>\n",
       "      <th>5</th>\n",
       "      <td>㇆</td>\n",
       "      <td>横折钩</td>\n",
       "      <td>Héng Zhé Gōu</td>\n",
       "      <td>羽 习 包 勻 葡 用 青 甫 勺 月 也 乜</td>\n",
       "    </tr>\n",
       "    <tr>\n",
       "      <th>6</th>\n",
       "      <td>㇊</td>\n",
       "      <td>横折提</td>\n",
       "      <td>Héng Zhé Tí</td>\n",
       "      <td>讠 计 鳩</td>\n",
       "    </tr>\n",
       "    <tr>\n",
       "      <th>7</th>\n",
       "      <td>㇅</td>\n",
       "      <td>横折折</td>\n",
       "      <td>Héng Zhé Zhé</td>\n",
       "      <td>凹</td>\n",
       "    </tr>\n",
       "    <tr>\n",
       "      <th>8</th>\n",
       "      <td>㇍</td>\n",
       "      <td>横折弯</td>\n",
       "      <td>Héng Zhé Wān</td>\n",
       "      <td>殳 投 朵</td>\n",
       "    </tr>\n",
       "    <tr>\n",
       "      <th>9</th>\n",
       "      <td>㇈</td>\n",
       "      <td>横折弯钩[3]; (横斜钩[4])</td>\n",
       "      <td>Héng Zhé Wān Gōu[3]; (Héng Xié Gōu[4])</td>\n",
       "      <td>飞 风 瘋 凬 虱 迅 气 九 几</td>\n",
       "    </tr>\n",
       "    <tr>\n",
       "      <th>10</th>\n",
       "      <td>㇠</td>\n",
       "      <td>横斜弯钩[3]; (横折弯钩[4])</td>\n",
       "      <td>Héng Xié Wān Gōu[3];(Héng Zhé Wān Gōu[4])</td>\n",
       "      <td>氹 乞 乤 艺</td>\n",
       "    </tr>\n",
       "    <tr>\n",
       "      <th>11</th>\n",
       "      <td>㇎</td>\n",
       "      <td>横折折折</td>\n",
       "      <td>Héng Zhé Zhé Zhé</td>\n",
       "      <td>凸</td>\n",
       "    </tr>\n",
       "    <tr>\n",
       "      <th>12</th>\n",
       "      <td>㇋</td>\n",
       "      <td>横折折撇</td>\n",
       "      <td>Héng Zhé Zhé Piě</td>\n",
       "      <td>建 及</td>\n",
       "    </tr>\n",
       "    <tr>\n",
       "      <th>13</th>\n",
       "      <td>㇌</td>\n",
       "      <td>横撇弯钩</td>\n",
       "      <td>Héng Piě Wān Gōu</td>\n",
       "      <td>阝 队 邮</td>\n",
       "    </tr>\n",
       "    <tr>\n",
       "      <th>14</th>\n",
       "      <td>㇡</td>\n",
       "      <td>横折折折钩</td>\n",
       "      <td>Héng Zhé Zhé Zhé Gōu</td>\n",
       "      <td>乃 孕 仍</td>\n",
       "    </tr>\n",
       "    <tr>\n",
       "      <th>15</th>\n",
       "      <td>㇑</td>\n",
       "      <td>竖</td>\n",
       "      <td>Shù</td>\n",
       "      <td>丩 中 串 讧 乍 上 五 丑</td>\n",
       "    </tr>\n",
       "    <tr>\n",
       "      <th>16</th>\n",
       "      <td>㇚</td>\n",
       "      <td>竖钩</td>\n",
       "      <td>Shù Gōu</td>\n",
       "      <td>爭 事 求 水</td>\n",
       "    </tr>\n",
       "    <tr>\n",
       "      <th>17</th>\n",
       "      <td>㇙</td>\n",
       "      <td>竖提</td>\n",
       "      <td>Shù Tí</td>\n",
       "      <td>以 比 切 卯 食 良 艮 很 狠 鄉 民</td>\n",
       "    </tr>\n",
       "    <tr>\n",
       "      <th>18</th>\n",
       "      <td>㇗</td>\n",
       "      <td>竖折</td>\n",
       "      <td>Shù Zhé</td>\n",
       "      <td>断 陋 继 山 互 彙 牙 乐 东</td>\n",
       "    </tr>\n",
       "    <tr>\n",
       "      <th>19</th>\n",
       "      <td>㇄</td>\n",
       "      <td>竖弯</td>\n",
       "      <td>Shù Wān</td>\n",
       "      <td>區 亡 妄 四</td>\n",
       "    </tr>\n",
       "    <tr>\n",
       "      <th>20</th>\n",
       "      <td>㇘</td>\n",
       "      <td>竖弯左</td>\n",
       "      <td>Shù Wān Zuǒ</td>\n",
       "      <td>肅 嘯 蕭 簫</td>\n",
       "    </tr>\n",
       "    <tr>\n",
       "      <th>21</th>\n",
       "      <td>㇟</td>\n",
       "      <td>竖弯钩</td>\n",
       "      <td>Shù Wān Gōu</td>\n",
       "      <td>乱 己 已 巳</td>\n",
       "    </tr>\n",
       "    <tr>\n",
       "      <th>22</th>\n",
       "      <td>㇞</td>\n",
       "      <td>竖折折</td>\n",
       "      <td>Shù Zhé Zhé</td>\n",
       "      <td>亞 鼎 卐 吳 专</td>\n",
       "    </tr>\n",
       "    <tr>\n",
       "      <th>23</th>\n",
       "      <td>㇉</td>\n",
       "      <td>竖折弯钩[3]; (竖折折钩[4])</td>\n",
       "      <td>Shù Zhé Wān Gōu[3]; (Shù Zhé Zhé Gōu[4])</td>\n",
       "      <td>亏 强 弓 丏 丐 与 马 鸟 丂 号</td>\n",
       "    </tr>\n",
       "    <tr>\n",
       "      <th>24</th>\n",
       "      <td>㇒</td>\n",
       "      <td>撇</td>\n",
       "      <td>Piě</td>\n",
       "      <td>乂 爻 禾 毛 乏 乖 釆 衣 八 行</td>\n",
       "    </tr>\n",
       "    <tr>\n",
       "      <th>25</th>\n",
       "      <td>㇓</td>\n",
       "      <td>竖撇</td>\n",
       "      <td>Shù Piě</td>\n",
       "      <td>乃 月 用 齊 几 人 班 大</td>\n",
       "    </tr>\n",
       "    <tr>\n",
       "      <th>26</th>\n",
       "      <td>㇢</td>\n",
       "      <td>撇钩</td>\n",
       "      <td>Piě Gōu</td>\n",
       "      <td>乄</td>\n",
       "    </tr>\n",
       "    <tr>\n",
       "      <th>27</th>\n",
       "      <td>㇜</td>\n",
       "      <td>撇折</td>\n",
       "      <td>Piě Zhé</td>\n",
       "      <td>弘 玄 公 厶 翁</td>\n",
       "    </tr>\n",
       "    <tr>\n",
       "      <th>28</th>\n",
       "      <td>㇛</td>\n",
       "      <td>撇点</td>\n",
       "      <td>Piě Diǎn</td>\n",
       "      <td>女 巛 巡 獵 災 甾</td>\n",
       "    </tr>\n",
       "    <tr>\n",
       "      <th>29</th>\n",
       "      <td>㇔</td>\n",
       "      <td>点</td>\n",
       "      <td>Diǎn</td>\n",
       "      <td>丸 叉 义 永 冰 凡 丹 主 求 火 刃</td>\n",
       "    </tr>\n",
       "    <tr>\n",
       "      <th>30</th>\n",
       "      <td>㇏</td>\n",
       "      <td>捺</td>\n",
       "      <td>Nà</td>\n",
       "      <td>大 人 天 入 走 边 廷 尺</td>\n",
       "    </tr>\n",
       "    <tr>\n",
       "      <th>31</th>\n",
       "      <td>㇝</td>\n",
       "      <td>提捺</td>\n",
       "      <td>Tí Nà</td>\n",
       "      <td>尐 之 道 八 入 廻</td>\n",
       "    </tr>\n",
       "    <tr>\n",
       "      <th>32</th>\n",
       "      <td>㇂</td>\n",
       "      <td>斜钩</td>\n",
       "      <td>Xié Gōu</td>\n",
       "      <td>戈 弋 戰 我</td>\n",
       "    </tr>\n",
       "    <tr>\n",
       "      <th>33</th>\n",
       "      <td>㇃</td>\n",
       "      <td>扁斜钩</td>\n",
       "      <td>Biǎn Xié Gōu</td>\n",
       "      <td>心 必 沁 惢 蕊</td>\n",
       "    </tr>\n",
       "    <tr>\n",
       "      <th>34</th>\n",
       "      <td>㇁</td>\n",
       "      <td>弯钩</td>\n",
       "      <td>Wān Gōu</td>\n",
       "      <td>狐 狱 豹 家 啄 嶽 貓 家 逐</td>\n",
       "    </tr>\n",
       "    <tr>\n",
       "      <th>35</th>\n",
       "      <td>㇣</td>\n",
       "      <td>圈</td>\n",
       "      <td>Quān</td>\n",
       "      <td>〇 㔔 㪳 㫈</td>\n",
       "    </tr>\n",
       "  </tbody>\n",
       "</table>\n",
       "</div>"
      ],
      "text/plain": [
       "   Utf8_char         Name in PRC                                  Full Name  \\\n",
       "0          ㇐                   横                                       Héng   \n",
       "1          ㇀                   提                                         Tí   \n",
       "2          ㇖                  横钩                                   Héng Gōu   \n",
       "3          ㇇                  横撇                                   Héng Piě   \n",
       "4          ㇕                  横折                                   Héng Zhé   \n",
       "5          ㇆                 横折钩                               Héng Zhé Gōu   \n",
       "6          ㇊                 横折提                                Héng Zhé Tí   \n",
       "7          ㇅                 横折折                               Héng Zhé Zhé   \n",
       "8          ㇍                 横折弯                               Héng Zhé Wān   \n",
       "9          ㇈   横折弯钩[3]; (横斜钩[4])     Héng Zhé Wān Gōu[3]; (Héng Xié Gōu[4])   \n",
       "10         ㇠  横斜弯钩[3]; (横折弯钩[4])  Héng Xié Wān Gōu[3];(Héng Zhé Wān Gōu[4])   \n",
       "11         ㇎                横折折折                           Héng Zhé Zhé Zhé   \n",
       "12         ㇋                横折折撇                           Héng Zhé Zhé Piě   \n",
       "13         ㇌                横撇弯钩                           Héng Piě Wān Gōu   \n",
       "14         ㇡               横折折折钩                       Héng Zhé Zhé Zhé Gōu   \n",
       "15         ㇑                   竖                                        Shù   \n",
       "16         ㇚                  竖钩                                    Shù Gōu   \n",
       "17         ㇙                  竖提                                     Shù Tí   \n",
       "18         ㇗                  竖折                                    Shù Zhé   \n",
       "19         ㇄                  竖弯                                    Shù Wān   \n",
       "20         ㇘                 竖弯左                                Shù Wān Zuǒ   \n",
       "21         ㇟                 竖弯钩                                Shù Wān Gōu   \n",
       "22         ㇞                 竖折折                                Shù Zhé Zhé   \n",
       "23         ㇉  竖折弯钩[3]; (竖折折钩[4])   Shù Zhé Wān Gōu[3]; (Shù Zhé Zhé Gōu[4])   \n",
       "24         ㇒                   撇                                        Piě   \n",
       "25         ㇓                  竖撇                                    Shù Piě   \n",
       "26         ㇢                  撇钩                                    Piě Gōu   \n",
       "27         ㇜                  撇折                                    Piě Zhé   \n",
       "28         ㇛                  撇点                                   Piě Diǎn   \n",
       "29         ㇔                   点                                       Diǎn   \n",
       "30         ㇏                   捺                                         Nà   \n",
       "31         ㇝                  提捺                                      Tí Nà   \n",
       "32         ㇂                  斜钩                                    Xié Gōu   \n",
       "33         ㇃                 扁斜钩                               Biǎn Xié Gōu   \n",
       "34         ㇁                  弯钩                                    Wān Gōu   \n",
       "35         ㇣                   圈                                       Quān   \n",
       "\n",
       "         Example characters  \n",
       "0     二 三 丁 丞 丈 世 不 上 十 卅 七  \n",
       "1   冰 淋 病 孑 治 冶 冽 暴 氾 录 地 虫  \n",
       "2     疋 了 危 予 矛 子 字 令 疏 写 冖  \n",
       "3           又 水 夕 径 炙 双 叒 今  \n",
       "4       口 囗 己 田 品 吕 申 甲 圆 巪  \n",
       "5   羽 习 包 勻 葡 用 青 甫 勺 月 也 乜  \n",
       "6                     讠 计 鳩  \n",
       "7                         凹  \n",
       "8                     殳 投 朵  \n",
       "9         飞 风 瘋 凬 虱 迅 气 九 几  \n",
       "10                  氹 乞 乤 艺  \n",
       "11                        凸  \n",
       "12                      建 及  \n",
       "13                    阝 队 邮  \n",
       "14                    乃 孕 仍  \n",
       "15          丩 中 串 讧 乍 上 五 丑  \n",
       "16                  爭 事 求 水  \n",
       "17    以 比 切 卯 食 良 艮 很 狠 鄉 民  \n",
       "18        断 陋 继 山 互 彙 牙 乐 东  \n",
       "19                  區 亡 妄 四  \n",
       "20                  肅 嘯 蕭 簫  \n",
       "21                  乱 己 已 巳  \n",
       "22                亞 鼎 卐 吳 专  \n",
       "23      亏 强 弓 丏 丐 与 马 鸟 丂 号  \n",
       "24      乂 爻 禾 毛 乏 乖 釆 衣 八 行  \n",
       "25          乃 月 用 齊 几 人 班 大  \n",
       "26                        乄  \n",
       "27                弘 玄 公 厶 翁  \n",
       "28              女 巛 巡 獵 災 甾  \n",
       "29    丸 叉 义 永 冰 凡 丹 主 求 火 刃  \n",
       "30          大 人 天 入 走 边 廷 尺  \n",
       "31              尐 之 道 八 入 廻  \n",
       "32                  戈 弋 戰 我  \n",
       "33                心 必 沁 惢 蕊  \n",
       "34        狐 狱 豹 家 啄 嶽 貓 家 逐  \n",
       "35                  〇 㔔 㪳 㫈  "
      ]
     },
     "execution_count": 193,
     "metadata": {},
     "output_type": "execute_result"
    }
   ],
   "source": [
    "strokes[['Utf8_char','Name in PRC','Full Name', 'Example characters']]"
   ]
  },
  {
   "cell_type": "markdown",
   "id": "15df31b2-41bc-4e3f-92c0-6e5d1cc87f3a",
   "metadata": {
    "jp-MarkdownHeadingCollapsed": true,
    "tags": []
   },
   "source": [
    "## using xpath (didn't finish doing it this way)"
   ]
  },
  {
   "cell_type": "code",
   "execution_count": 65,
   "id": "00e288ef-f98e-411d-a036-31c993e380d2",
   "metadata": {},
   "outputs": [],
   "source": [
    "table_xpath = '/html/body/div[3]/div[3]/div[5]/div[1]/table[4]/tbody'\n",
    "webpage_url = 'https://en.wikipedia.org/wiki/Stroke_(CJK_character)'"
   ]
  },
  {
   "cell_type": "code",
   "execution_count": 66,
   "id": "49e6c90e-c972-4e10-8fc6-4d204ca9f9fa",
   "metadata": {},
   "outputs": [],
   "source": [
    "rq = requests.get(webpage_url)"
   ]
  },
  {
   "cell_type": "code",
   "execution_count": 71,
   "id": "fb032f6a-5dc7-45b5-8cd4-a90ea77a4967",
   "metadata": {},
   "outputs": [],
   "source": [
    "xpath_selector = scrapy.Selector(text=rq.text)"
   ]
  },
  {
   "cell_type": "code",
   "execution_count": 89,
   "id": "e2ed435c-7259-41af-9351-44bb8efb2e1b",
   "metadata": {},
   "outputs": [],
   "source": [
    "table = xpath_selector.xpath(table_xpath).get()"
   ]
  },
  {
   "cell_type": "code",
   "execution_count": 90,
   "id": "e8bc83d1-a4ff-49ca-a2d1-bacc17312c79",
   "metadata": {},
   "outputs": [],
   "source": [
    "bs_table = BeautifulSoup(table)"
   ]
  },
  {
   "cell_type": "code",
   "execution_count": 163,
   "id": "dcde5a91-5699-4d23-bda8-60102be4c978",
   "metadata": {},
   "outputs": [],
   "source": [
    "df = pd.DataFrame(\n",
    "    columns=[i.text.strip() for i in bs_table.find('tr').find_all('th')],\n",
    ")"
   ]
  },
  {
   "cell_type": "code",
   "execution_count": 164,
   "id": "5dcec62d-32d4-4672-82b9-ef18a4f0db00",
   "metadata": {},
   "outputs": [
    {
     "data": {
      "text/html": [
       "<div>\n",
       "<style scoped>\n",
       "    .dataframe tbody tr th:only-of-type {\n",
       "        vertical-align: middle;\n",
       "    }\n",
       "\n",
       "    .dataframe tbody tr th {\n",
       "        vertical-align: top;\n",
       "    }\n",
       "\n",
       "    .dataframe thead th {\n",
       "        text-align: right;\n",
       "    }\n",
       "</style>\n",
       "<table border=\"1\" class=\"dataframe\">\n",
       "  <thead>\n",
       "    <tr style=\"text-align: right;\">\n",
       "      <th></th>\n",
       "      <th>Stroke</th>\n",
       "      <th>Name in PRC</th>\n",
       "      <th>Abbr[3][4]</th>\n",
       "      <th>Full Name</th>\n",
       "      <th>Dictionary meaning and Note</th>\n",
       "      <th>Example characters</th>\n",
       "      <th>Encoding</th>\n",
       "    </tr>\n",
       "  </thead>\n",
       "  <tbody>\n",
       "  </tbody>\n",
       "</table>\n",
       "</div>"
      ],
      "text/plain": [
       "Empty DataFrame\n",
       "Columns: [Stroke, Name in PRC, Abbr[3][4], Full Name, Dictionary meaning and Note, Example characters, Encoding]\n",
       "Index: []"
      ]
     },
     "execution_count": 164,
     "metadata": {},
     "output_type": "execute_result"
    }
   ],
   "source": [
    "df.loc[1,:] = [i.text.strip() for i in bs_table.find('tr').find_all('th')]"
   ]
  },
  {
   "cell_type": "code",
   "execution_count": 183,
   "id": "8721ea08-3496-4023-af5c-8efb0c046901",
   "metadata": {},
   "outputs": [],
   "source": [
    "indices = []\n",
    "for row in bs_table.find_all('tr')[1:]:\n",
    "    try:\n",
    "        indices.append(row.find_all('td')[1].text.strip())\n",
    "    except:\n",
    "        pass"
   ]
  },
  {
   "cell_type": "code",
   "execution_count": null,
   "id": "0d96419c-893a-49aa-b640-8b86084c2f9e",
   "metadata": {},
   "outputs": [],
   "source": [
    "indices"
   ]
  },
  {
   "cell_type": "code",
   "execution_count": 173,
   "id": "370cdc3e-7f1e-4573-a745-822923e638df",
   "metadata": {},
   "outputs": [],
   "source": [
    "rows = [row for row in bs_table.find_all('tr')][1:]"
   ]
  },
  {
   "cell_type": "code",
   "execution_count": 180,
   "id": "c0184d57-03be-41b8-ae5c-60715c433c4a",
   "metadata": {},
   "outputs": [
    {
     "data": {
      "text/plain": [
       "'\\n'"
      ]
     },
     "execution_count": 180,
     "metadata": {},
     "output_type": "execute_result"
    }
   ],
   "source": [
    "rows[0].find_all('td')[0].text"
   ]
  },
  {
   "cell_type": "code",
   "execution_count": 178,
   "id": "494e9d3a-1421-4246-81bc-a5dbd9abe8bf",
   "metadata": {},
   "outputs": [
    {
     "data": {
      "text/plain": [
       "'横\\n'"
      ]
     },
     "execution_count": 178,
     "metadata": {},
     "output_type": "execute_result"
    }
   ],
   "source": [
    "rows[0].find_all('td')[1].text"
   ]
  },
  {
   "cell_type": "code",
   "execution_count": 179,
   "id": "6aad63b5-9620-4c4b-a95a-15319150349d",
   "metadata": {},
   "outputs": [
    {
     "data": {
      "text/plain": [
       "'H\\n'"
      ]
     },
     "execution_count": 179,
     "metadata": {},
     "output_type": "execute_result"
    }
   ],
   "source": [
    "rows[0].find_all('td')[2].text"
   ]
  }
 ],
 "metadata": {
  "kernelspec": {
   "display_name": "Python 3 (ipykernel)",
   "language": "python",
   "name": "python3"
  },
  "language_info": {
   "codemirror_mode": {
    "name": "ipython",
    "version": 3
   },
   "file_extension": ".py",
   "mimetype": "text/x-python",
   "name": "python",
   "nbconvert_exporter": "python",
   "pygments_lexer": "ipython3",
   "version": "3.9.7"
  }
 },
 "nbformat": 4,
 "nbformat_minor": 5
}
