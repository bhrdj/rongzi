{
 "cells": [
  {
   "cell_type": "code",
   "execution_count": 105,
   "id": "c5cbe3c6-97a6-4c1e-b29b-d09a1cd15cb1",
   "metadata": {},
   "outputs": [],
   "source": [
    "import streamlit as st\n",
    "import pandas as pd\n",
    "import numpy as np\n",
    "import rongzi\n",
    "import graphviz"
   ]
  },
  {
   "cell_type": "code",
   "execution_count": 70,
   "id": "2a39a8c8-7717-4689-b6e1-5e657c59077b",
   "metadata": {},
   "outputs": [],
   "source": [
    "import os\n",
    "os.chdir('../rongzi/')\n",
    "from IPython.display import display, Markdown"
   ]
  },
  {
   "cell_type": "code",
   "execution_count": 14,
   "id": "1ae733bc-e3c7-43cb-8123-967542cdc4ae",
   "metadata": {},
   "outputs": [
    {
     "data": {
      "text/plain": [
       "DeltaGenerator(_root_container=0, _provided_cursor=None, _parent=None, _block_type=None, _form_data=None)"
      ]
     },
     "execution_count": 14,
     "metadata": {},
     "output_type": "execute_result"
    }
   ],
   "source": [
    "st.title(\"poem exploration\")\n",
    "p = st.text_input(label='Enter a name or short poem in Chinese characters,\\nmaximum 5 characters:', max_chars=5)\n",
    "p = '你好嗎'\n",
    "rz = rongzi.RongZi()\n",
    "df = rz.analyze_sequence(p)\n",
    "st.markdown('---')\n",
    "st.markdown(df.to_markdown(index=False))"
   ]
  },
  {
   "cell_type": "code",
   "execution_count": null,
   "id": "ae256525-1dfd-41db-84dd-f2b1006e2f45",
   "metadata": {},
   "outputs": [],
   "source": [
    "st.text_input(label='Enter a short poem in Chinese characters,\\nmaximum 10 characters:', max_chars=10)"
   ]
  },
  {
   "cell_type": "code",
   "execution_count": 15,
   "id": "5c34404f-f44f-4c1a-b23d-2f9a22cb9c1e",
   "metadata": {},
   "outputs": [
    {
     "data": {
      "text/plain": [
       "'Type it in yourself'"
      ]
     },
     "execution_count": 15,
     "metadata": {},
     "output_type": "execute_result"
    }
   ],
   "source": [
    "st.radio('Choose a Chinese phrase by one of two methods:',\n",
    "         ['Choose from a list of proverbs', 'Type it in yourself'])"
   ]
  },
  {
   "cell_type": "code",
   "execution_count": 39,
   "id": "ac2482ce-5c45-4524-bcde-8e8030f1160a",
   "metadata": {},
   "outputs": [],
   "source": [
    "chengyus = pd.read_csv('./assets/chengyu.csv', sep='\\t')"
   ]
  },
  {
   "cell_type": "code",
   "execution_count": null,
   "id": "f1a41847-cbf0-415a-a6da-7032c0ea6789",
   "metadata": {},
   "outputs": [],
   "source": [
    "st.button('bla', print('hello'))"
   ]
  },
  {
   "cell_type": "code",
   "execution_count": 63,
   "id": "3834370d-5d18-4565-8872-1b9e3f6157c6",
   "metadata": {},
   "outputs": [
    {
     "data": {
      "text/html": [
       "<div>\n",
       "<style scoped>\n",
       "    .dataframe tbody tr th:only-of-type {\n",
       "        vertical-align: middle;\n",
       "    }\n",
       "\n",
       "    .dataframe tbody tr th {\n",
       "        vertical-align: top;\n",
       "    }\n",
       "\n",
       "    .dataframe thead th {\n",
       "        text-align: right;\n",
       "    }\n",
       "</style>\n",
       "<table border=\"1\" class=\"dataframe\">\n",
       "  <thead>\n",
       "    <tr style=\"text-align: right;\">\n",
       "      <th></th>\n",
       "      <th>Proverb</th>\n",
       "      <th>Literal Meaning</th>\n",
       "      <th>Figurative Meaning</th>\n",
       "      <th>Pinyin</th>\n",
       "    </tr>\n",
       "  </thead>\n",
       "  <tbody>\n",
       "    <tr>\n",
       "      <th>0</th>\n",
       "      <td>狼吞虎嚥</td>\n",
       "      <td>swallow like tiger and devour like wolf</td>\n",
       "      <td>eating food quickly and in a messy manner</td>\n",
       "      <td>láng tūn hǔ yàn</td>\n",
       "    </tr>\n",
       "    <tr>\n",
       "      <th>1</th>\n",
       "      <td>三人成虎</td>\n",
       "      <td>Three men make a tiger</td>\n",
       "      <td>repeated rumor becomes a fact</td>\n",
       "      <td>sān rén chéng hǔ</td>\n",
       "    </tr>\n",
       "    <tr>\n",
       "      <th>2</th>\n",
       "      <td>樂不思蜀</td>\n",
       "      <td>so happy as to forget Shu</td>\n",
       "      <td>indulge in pleasures</td>\n",
       "      <td>lè bù sī shǔ</td>\n",
       "    </tr>\n",
       "    <tr>\n",
       "      <th>3</th>\n",
       "      <td>破釜沉舟</td>\n",
       "      <td>break the cauldrons and sink the boats</td>\n",
       "      <td>burn bridges, i.e. commit oneself irrevocably</td>\n",
       "      <td>pò fǔ chén zhōu</td>\n",
       "    </tr>\n",
       "    <tr>\n",
       "      <th>4</th>\n",
       "      <td>井底之蛙</td>\n",
       "      <td>a frog in the bottom of the well</td>\n",
       "      <td>a person with limited outlook</td>\n",
       "      <td>jǐng dǐ zhī wā</td>\n",
       "    </tr>\n",
       "  </tbody>\n",
       "</table>\n",
       "</div>"
      ],
      "text/plain": [
       "  Proverb                          Literal Meaning  \\\n",
       "0    狼吞虎嚥  swallow like tiger and devour like wolf   \n",
       "1    三人成虎                   Three men make a tiger   \n",
       "2    樂不思蜀                so happy as to forget Shu   \n",
       "3    破釜沉舟   break the cauldrons and sink the boats   \n",
       "4    井底之蛙         a frog in the bottom of the well   \n",
       "\n",
       "                              Figurative Meaning            Pinyin  \n",
       "0      eating food quickly and in a messy manner   láng tūn hǔ yàn  \n",
       "1                  repeated rumor becomes a fact  sān rén chéng hǔ  \n",
       "2                           indulge in pleasures      lè bù sī shǔ  \n",
       "3  burn bridges, i.e. commit oneself irrevocably   pò fǔ chén zhōu  \n",
       "4                  a person with limited outlook    jǐng dǐ zhī wā  "
      ]
     },
     "execution_count": 63,
     "metadata": {},
     "output_type": "execute_result"
    }
   ],
   "source": [
    "rows = list(np.random.choice(chengyus.index, 5, replace=False))\n",
    "cols = ['Proverb', 'Literal Meaning', 'Figurative Meaning', 'Pinyin']\n",
    "chengyus.loc[rows, cols].reset_index(drop=True)"
   ]
  },
  {
   "cell_type": "code",
   "execution_count": 106,
   "id": "57b376b3-0f18-4bd5-bea3-9c5a768fb33f",
   "metadata": {},
   "outputs": [],
   "source": [
    "gr = graphviz.Digraph('G', filename='cluster.gv')\n",
    "with gr.subgraph(name='cluster_1') as cl:\n",
    "    cl.attr(color='blue')\n",
    "    cl.node_attr['style'] = 'filled'\n",
    "    cl.edges([('b0', 'b1'), ('b1', 'b2'), ('b2', 'b3')])\n",
    "    cl.attr(label='process #2')"
   ]
  },
  {
   "cell_type": "code",
   "execution_count": 102,
   "id": "23689195-4c0b-4628-bb59-2f9d6f3a7e9a",
   "metadata": {},
   "outputs": [
    {
     "data": {
      "text/markdown": [
       "**Proverb**: 一箭雙鵰  \n",
       "**Pinyin**: yí jiàn shuāng diāo  \n",
       "**Literal Meaning**: kill two eagles/vultures with one arrow  \n",
       "**Figurative Meaning**: Kill two birds with one stone"
      ],
      "text/plain": [
       "<IPython.core.display.Markdown object>"
      ]
     },
     "metadata": {},
     "output_type": "display_data"
    }
   ],
   "source": [
    "chengyu = chengyus.loc[0]\n",
    "lines = \"**\"+chengyu.index+\"**: \" + chengyu\n",
    "display(Markdown('  \\n'.join(lines)))"
   ]
  },
  {
   "cell_type": "code",
   "execution_count": 71,
   "id": "d3993870-7f3f-4e8e-a58f-54036c8d1a1b",
   "metadata": {},
   "outputs": [
    {
     "data": {
      "text/markdown": [
       "|    | 你好           | 好嗎           |\n",
       "|---:|:---------------|:---------------|\n",
       "|  0 | 你您心恏好     | 好女媽馬嗎     |\n",
       "|  1 | 你尔妳女好     | 好女要騕馬嗎   |\n",
       "|  2 | 你您心孞子好   | 好恏心憑馮馬嗎 |\n",
       "|  3 | 你尔覙見覎子好 | 好女奴駑馬嗎   |\n",
       "|  4 | 你尔鉨金釨子好 | 好恏心念騐馬嗎 |"
      ],
      "text/plain": [
       "<IPython.core.display.Markdown object>"
      ]
     },
     "metadata": {},
     "output_type": "display_data"
    }
   ],
   "source": [
    "display(Markdown(df.to_markdown()))"
   ]
  },
  {
   "cell_type": "code",
   "execution_count": 108,
   "id": "225ed862-631c-4c9b-bbb2-0fbfffd83bae",
   "metadata": {},
   "outputs": [],
   "source": []
  },
  {
   "cell_type": "code",
   "execution_count": 79,
   "id": "17c5a453-cc49-4370-9b1d-9158ebde297b",
   "metadata": {},
   "outputs": [
    {
     "data": {
      "text/markdown": [
       "|---:|:---------------|:---------------|\\n|  0 | 你您心恏好     | 好女媽馬嗎     |\\n|  1 | 你尔妳女好     | 好女要騕馬嗎   |\\n|  2 | 你您心孞子好   | 好恏心憑馮馬嗎 |\\n|  3 | 你尔覙見覎子好 | 好女奴駑馬嗎   |\\n|  4 | 你尔鉨金釨子好 | 好恏心念騐馬嗎 |"
      ],
      "text/plain": [
       "<IPython.core.display.Markdown object>"
      ]
     },
     "metadata": {},
     "output_type": "display_data"
    }
   ],
   "source": []
  },
  {
   "cell_type": "markdown",
   "id": "0c9fd52a-00d4-4e8e-9341-4707e0335d36",
   "metadata": {},
   "source": [
    "### graph"
   ]
  },
  {
   "cell_type": "code",
   "execution_count": 20,
   "id": "3fad1dec",
   "metadata": {
    "code_folding": [
     0
    ],
    "hidden": true
   },
   "outputs": [],
   "source": [
    "def vertical_family_tree(s:str):\n",
    "    dot = graphviz.Digraph(comment='vertical family tree')\n",
    "    aa = get_all_ancestors(comp)\n",
    "    for c in aa:\n",
    "        add_nodes_and_edges_parents(c, dot)\n",
    "\n",
    "    add_nodes_and_edges_kids(comp, dot)\n",
    "    \n",
    "    if 'Digraph.gv.pdf' in os.listdir(directory):\n",
    "        os.remove(directory + 'Digraph.gv.pdf')\n",
    "    filename = dot.render(format='pdf', directory=directory)\n",
    "    \n",
    "    return dot"
   ]
  },
  {
   "cell_type": "code",
   "execution_count": 21,
   "id": "85416d7c",
   "metadata": {
    "code_folding": [
     0
    ],
    "hidden": true
   },
   "outputs": [],
   "source": [
    "def add_nodes_and_edges_parents(comp:str, dot:graphviz.Digraph):\n",
    "    [lc, rc] = ccd.loc[comp, ['LeftComponent', 'RightComponent']].tolist()\n",
    "    \n",
    "    dot.node(comp)\n",
    "    \n",
    "    if comp == lc:\n",
    "        return None\n",
    "    \n",
    "    parents = get_parents_lr(comp)\n",
    "    if parents['LeftComponent']:\n",
    "        dot.edges([f\"{lc}{comp}\"])\n",
    "    if parents['RightComponent']:\n",
    "        dot.edges([f\"{rc}{comp}\"])\n",
    "    return None"
   ]
  },
  {
   "cell_type": "code",
   "execution_count": 22,
   "id": "62f32c64",
   "metadata": {
    "code_folding": [
     0
    ],
    "hidden": true
   },
   "outputs": [],
   "source": [
    "def add_nodes_and_edges_kids(comp:str, dot:graphviz.Digraph):\n",
    "    dot_body_joined = ''.join(dot.body)\n",
    "    dot_body_charset = set(dot_body_joined)\n",
    "    comp_and_kids = kdb[comp] + [comp]\n",
    "    for c in comp_and_kids:\n",
    "        if c not in dot_body_charset:\n",
    "            dot.node(c)\n",
    "    for c in kdb[comp]:\n",
    "        dot.edges([f\"{comp}{c}\"])"
   ]
  },
  {
   "cell_type": "code",
   "execution_count": null,
   "id": "246b79a7-b5e0-480f-89a8-cfd2a5fed17d",
   "metadata": {},
   "outputs": [],
   "source": []
  }
 ],
 "metadata": {
  "kernelspec": {
   "display_name": "Python 3 (ipykernel)",
   "language": "python",
   "name": "python3"
  },
  "language_info": {
   "codemirror_mode": {
    "name": "ipython",
    "version": 3
   },
   "file_extension": ".py",
   "mimetype": "text/x-python",
   "name": "python",
   "nbconvert_exporter": "python",
   "pygments_lexer": "ipython3",
   "version": "3.9.7"
  }
 },
 "nbformat": 4,
 "nbformat_minor": 5
}
