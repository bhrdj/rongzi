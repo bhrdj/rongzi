{
 "cells": [
  {
   "cell_type": "code",
   "execution_count": 3,
   "id": "c5cbe3c6-97a6-4c1e-b29b-d09a1cd15cb1",
   "metadata": {},
   "outputs": [],
   "source": [
    "import streamlit as st\n",
    "import pandas as pd\n",
    "import numpy as np\n",
    "import rongzi\n",
    "import graphviz"
   ]
  },
  {
   "cell_type": "code",
   "execution_count": 2,
   "id": "2a39a8c8-7717-4689-b6e1-5e657c59077b",
   "metadata": {},
   "outputs": [],
   "source": [
    "import os\n",
    "os.chdir('../rongzi/')\n",
    "from IPython.display import display, Markdown"
   ]
  },
  {
   "cell_type": "code",
   "execution_count": null,
   "id": "1ae733bc-e3c7-43cb-8123-967542cdc4ae",
   "metadata": {},
   "outputs": [],
   "source": [
    "st.title(\"poem exploration\")\n",
    "p = st.text_input(label='Enter a name or short poem in Chinese characters,\\nmaximum 5 characters:', max_chars=5)\n",
    "p = '你好嗎'\n",
    "rz = rongzi.RongZi()\n",
    "df = rz.analyze_sequence(p)\n",
    "st.markdown('---')\n",
    "st.markdown(df.to_markdown(index=False))"
   ]
  },
  {
   "cell_type": "code",
   "execution_count": null,
   "id": "ae256525-1dfd-41db-84dd-f2b1006e2f45",
   "metadata": {},
   "outputs": [],
   "source": [
    "st.text_input(label='Enter a short poem in Chinese characters,\\nmaximum 10 characters:', max_chars=10)"
   ]
  },
  {
   "cell_type": "code",
   "execution_count": null,
   "id": "5c34404f-f44f-4c1a-b23d-2f9a22cb9c1e",
   "metadata": {},
   "outputs": [],
   "source": [
    "st.radio('Choose a Chinese phrase by one of two methods:',\n",
    "         ['Choose from a list of proverbs', 'Type it in yourself'])"
   ]
  },
  {
   "cell_type": "code",
   "execution_count": null,
   "id": "ac2482ce-5c45-4524-bcde-8e8030f1160a",
   "metadata": {},
   "outputs": [],
   "source": [
    "chengyus = pd.read_csv('./assets/chengyu.csv', sep='\\t')"
   ]
  },
  {
   "cell_type": "code",
   "execution_count": null,
   "id": "f1a41847-cbf0-415a-a6da-7032c0ea6789",
   "metadata": {},
   "outputs": [],
   "source": [
    "st.button('bla', print('hello'))"
   ]
  },
  {
   "cell_type": "code",
   "execution_count": null,
   "id": "3834370d-5d18-4565-8872-1b9e3f6157c6",
   "metadata": {},
   "outputs": [],
   "source": [
    "rows = list(np.random.choice(chengyus.index, 5, replace=False))\n",
    "cols = ['Proverb', 'Literal Meaning', 'Figurative Meaning', 'Pinyin']\n",
    "chengyus.loc[rows, cols].reset_index(drop=True)"
   ]
  },
  {
   "cell_type": "code",
   "execution_count": null,
   "id": "57b376b3-0f18-4bd5-bea3-9c5a768fb33f",
   "metadata": {},
   "outputs": [],
   "source": [
    "gr = graphviz.Digraph('G', filename='cluster.gv')\n",
    "with gr.subgraph(name='cluster_1') as cl:\n",
    "    cl.attr(color='blue')\n",
    "    cl.node_attr['style'] = 'filled'\n",
    "    cl.edges([('b0', 'b1'), ('b1', 'b2'), ('b2', 'b3')])\n",
    "    cl.attr(label='process #2')"
   ]
  },
  {
   "cell_type": "code",
   "execution_count": null,
   "id": "23689195-4c0b-4628-bb59-2f9d6f3a7e9a",
   "metadata": {},
   "outputs": [],
   "source": [
    "chengyu = chengyus.loc[0]\n",
    "lines = \"**\"+chengyu.index+\"**: \" + chengyu\n",
    "display(Markdown('  \\n'.join(lines)))"
   ]
  },
  {
   "cell_type": "code",
   "execution_count": null,
   "id": "d3993870-7f3f-4e8e-a58f-54036c8d1a1b",
   "metadata": {},
   "outputs": [],
   "source": [
    "display(Markdown(df.to_markdown()))"
   ]
  },
  {
   "cell_type": "code",
   "execution_count": null,
   "id": "225ed862-631c-4c9b-bbb2-0fbfffd83bae",
   "metadata": {},
   "outputs": [],
   "source": []
  },
  {
   "cell_type": "code",
   "execution_count": null,
   "id": "17c5a453-cc49-4370-9b1d-9158ebde297b",
   "metadata": {},
   "outputs": [],
   "source": []
  },
  {
   "cell_type": "markdown",
   "id": "0c9fd52a-00d4-4e8e-9341-4707e0335d36",
   "metadata": {},
   "source": [
    "### graph"
   ]
  },
  {
   "cell_type": "code",
   "execution_count": 4,
   "id": "2b716401-3a5d-4812-8911-d682182b746a",
   "metadata": {},
   "outputs": [],
   "source": [
    "from fpdf import FPDF\n",
    "import base64\n",
    "from tempfile import NamedTemporaryFile\n",
    "import rongzi"
   ]
  },
  {
   "cell_type": "code",
   "execution_count": 8,
   "id": "4ca701f6-5ff5-4453-8db8-e1834b0a37d6",
   "metadata": {},
   "outputs": [
    {
     "data": {
      "text/plain": [
       "[]"
      ]
     },
     "execution_count": 8,
     "metadata": {},
     "output_type": "execute_result"
    }
   ],
   "source": [
    "rz = rongzi.RongZi('開')\n",
    "rz.get_vertical_family_tree()"
   ]
  },
  {
   "cell_type": "code",
   "execution_count": 11,
   "id": "b25ab917-93ed-4256-9e30-09cfa257e80e",
   "metadata": {},
   "outputs": [],
   "source": [
    "def _create_download_link(val, filename):\n",
    "    b64 = base64.b64encode(val)  # val looks like b'...'\n",
    "    return f'<a href=\"data:application/octet-stream;base64,{b64.decode()}\" download=\"{filename}.pdf\">Download file</a>'"
   ]
  },
  {
   "cell_type": "code",
   "execution_count": 34,
   "id": "4f05051a-612e-4b47-ab7f-0beeed68c612",
   "metadata": {},
   "outputs": [],
   "source": [
    "pdf = FPDF()\n",
    "pdf.add_page()\n",
    "with NamedTemporaryFile(delete=False, suffix=\".pdf\") as tmpfile:\n",
    "    bytes_file = graphviz.pipe('dot', 'png', bytes(rz.vert_tree.source, 'utf-8'))    # (format='pdf',filename=tmpfile.name)\n",
    "    # pdf.image(tmpfile.name, 10, 10, 200, 100)\n",
    "    html = _create_download_link(bytes_file, \"testfile\")   # pdf.output(dest=\"S\").encode(\"utf-8\")\n",
    "    st.markdown(html, unsafe_allow_html=True)    "
   ]
  },
  {
   "cell_type": "code",
   "execution_count": 35,
   "id": "5fd89db9-a92d-4149-9ce8-c7fd85ed09e7",
   "metadata": {},
   "outputs": [],
   "source": [
    "pdf = FPDF()\n",
    "pdf.add_page()\n",
    "with NamedTemporaryFile(delete=False, suffix=\".pdf\") as tmpfile:\n",
    "    bytes_file = graphviz.pipe('dot', 'png', bytes(rz.vert_tree.source, 'utf-8'))   \n",
    "    html = _create_download_link(bytes_file, \"testfile\")\n",
    "    st.markdown(html, unsafe_allow_html=True)    \n",
    "    "
   ]
  }
 ],
 "metadata": {
  "kernelspec": {
   "display_name": "Python 3 (ipykernel)",
   "language": "python",
   "name": "python3"
  },
  "language_info": {
   "codemirror_mode": {
    "name": "ipython",
    "version": 3
   },
   "file_extension": ".py",
   "mimetype": "text/x-python",
   "name": "python",
   "nbconvert_exporter": "python",
   "pygments_lexer": "ipython3",
   "version": "3.9.7"
  }
 },
 "nbformat": 4,
 "nbformat_minor": 5
}
